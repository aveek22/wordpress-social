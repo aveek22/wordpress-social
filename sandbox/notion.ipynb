{
 "cells": [
  {
   "cell_type": "code",
   "execution_count": null,
   "metadata": {},
   "outputs": [],
   "source": [
    "import requests\n",
    "from config import Notion"
   ]
  },
  {
   "cell_type": "code",
   "execution_count": null,
   "metadata": {},
   "outputs": [],
   "source": [
    "notion_token = Notion.SECRET_TOKEN\n",
    "database_id = Notion.DATABASE_ID"
   ]
  },
  {
   "cell_type": "code",
   "execution_count": null,
   "metadata": {},
   "outputs": [],
   "source": [
    "url = f\"https://api.notion.com/v1/databases/{database_id}/query\"\n",
    "\n",
    "header = {\n",
    "    'Authorization' : f'Bearer {notion_token}',\n",
    "    'Notion-Version' : '2022-02-22'\n",
    "}\n",
    "\n",
    "filter_string = {\n",
    "    'filter': {\n",
    "        'property': 'Scheduled',\n",
    "        'date': {\n",
    "            'equals': '2022-03-05T23:56:00'\n",
    "        }\n",
    "    }\n",
    "}\n",
    "\n",
    "\n",
    "\n",
    "payload = {\n",
    "    'filter': {\n",
    "        'and' : [\n",
    "            {\n",
    "                'property': 'Scheduled',\n",
    "                'date': {\n",
    "                    'before': '2022-03-06T00:00'\n",
    "                }\n",
    "            },\n",
    "            {\n",
    "                'property': 'Scheduled',\n",
    "                'date': {\n",
    "                    'after': '2022-03-05T00:00'\n",
    "                }\n",
    "            }\n",
    "        ]\n",
    "    },\n",
    "    \"page_size\": 100\n",
    "}"
   ]
  },
  {
   "cell_type": "code",
   "execution_count": null,
   "metadata": {},
   "outputs": [],
   "source": [
    "r = requests.post(url, headers=header, json=payload)\n",
    "\n",
    "response = r.json()\n",
    "\n",
    "result = response['results']\n",
    "\n",
    "result"
   ]
  },
  {
   "cell_type": "code",
   "execution_count": null,
   "metadata": {},
   "outputs": [],
   "source": [
    "page_id = Notion.PAGE_ID\n",
    "\n",
    "page_url = f\"https://api.notion.com/v1/pages/{page_id}\"\n",
    "\n",
    "r = requests.get(url=page_url, headers=header)\n",
    "\n",
    "r.json()"
   ]
  }
 ],
 "metadata": {
  "interpreter": {
   "hash": "dbb473b6734f6ff61f49272fe0a5ccdf58cedc1b97d39a5410f65150485be57d"
  },
  "kernelspec": {
   "display_name": "Python 3.9.10 ('.venv': venv)",
   "language": "python",
   "name": "python3"
  },
  "language_info": {
   "codemirror_mode": {
    "name": "ipython",
    "version": 3
   },
   "file_extension": ".py",
   "mimetype": "text/x-python",
   "name": "python",
   "nbconvert_exporter": "python",
   "pygments_lexer": "ipython3",
   "version": "3.9.10"
  },
  "orig_nbformat": 4
 },
 "nbformat": 4,
 "nbformat_minor": 2
}
