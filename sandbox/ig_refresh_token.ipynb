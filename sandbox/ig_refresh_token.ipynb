{
 "cells": [
  {
   "cell_type": "code",
   "execution_count": null,
   "metadata": {},
   "outputs": [],
   "source": [
    "import requests\n",
    "from config import Instagram"
   ]
  },
  {
   "cell_type": "code",
   "execution_count": null,
   "metadata": {},
   "outputs": [],
   "source": [
    "app_id = Instagram.APP_ID\n",
    "app_secret = Instagram.APP_SECRET\n",
    "user_access_token = Instagram.USER_ACCESS_TOKEN"
   ]
  },
  {
   "cell_type": "code",
   "execution_count": null,
   "metadata": {},
   "outputs": [],
   "source": [
    "url = \"https://graph.facebook.com/v13.0/oauth/access_token\"\n",
    "\n",
    "params = {\n",
    "    'grant_type' : 'fb_exchange_token',\n",
    "    'client_id' : app_id,\n",
    "    'client_secret' : app_secret,\n",
    "    'fb_exchange_token' : user_access_token\n",
    "}\n",
    "\n",
    "r = requests.get(url, params=params)\n",
    "\n",
    "print(r.text)"
   ]
  },
  {
   "cell_type": "code",
   "execution_count": null,
   "metadata": {},
   "outputs": [],
   "source": [
    "url = \"https://graph.facebook.com/v13.0/oauth/access_token\"\n",
    "\n",
    "params = {\n",
    "    'grant_type' : 'fb_exchange_token',\n",
    "    'client_id' : app_id,\n",
    "    'client_secret' : app_secret,\n",
    "    'fb_exchange_token' : 'SOMEACCESSTOKEN'\n",
    "}\n",
    "\n",
    "r = requests.get(url, params=params)\n",
    "\n",
    "print(r.text)"
   ]
  }
 ],
 "metadata": {
  "interpreter": {
   "hash": "dbb473b6734f6ff61f49272fe0a5ccdf58cedc1b97d39a5410f65150485be57d"
  },
  "kernelspec": {
   "display_name": "Python 3.9.10 ('.venv': venv)",
   "language": "python",
   "name": "python3"
  },
  "language_info": {
   "codemirror_mode": {
    "name": "ipython",
    "version": 3
   },
   "file_extension": ".py",
   "mimetype": "text/x-python",
   "name": "python",
   "nbconvert_exporter": "python",
   "pygments_lexer": "ipython3",
   "version": "3.9.10"
  },
  "orig_nbformat": 4
 },
 "nbformat": 4,
 "nbformat_minor": 2
}
