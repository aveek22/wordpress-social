{
 "cells": [
  {
   "cell_type": "code",
   "execution_count": 1,
   "metadata": {},
   "outputs": [],
   "source": [
    "import requests\n",
    "from config import DevTo"
   ]
  },
  {
   "cell_type": "code",
   "execution_count": 5,
   "metadata": {},
   "outputs": [],
   "source": [
    "api_key = DevTo.API_KEY\n",
    "\n",
    "url = 'https://dev.to/api/articles'"
   ]
  },
  {
   "cell_type": "code",
   "execution_count": 3,
   "metadata": {},
   "outputs": [],
   "source": [
    "headers = {\n",
    "    'api-key' : f'{api_key}',\n",
    "    'content' : 'application/json'\n",
    "}"
   ]
  },
  {
   "cell_type": "code",
   "execution_count": 4,
   "metadata": {},
   "outputs": [],
   "source": [
    "payload = {\n",
    "  'article': {\n",
    "    'title': 'Hello, World!',\n",
    "    'published': True,\n",
    "    'body_markdown': 'Hello DEV, this is my first post from DataCloudMag 3',\n",
    "    'tags': [\n",
    "      'discuss',\n",
    "      'help'\n",
    "    ],\n",
    "    'series': 'Hello series',\n",
    "    'canonical_url' : 'https://datacloudmag.com/solving-the-gilded-rose-refactoring-kata/',\n",
    "    'social_image' : 'https://i0.wp.com/datacloudmag.com/wp-content/uploads/2022/02/pexels-photo-169573.jpeg',\n",
    "    'reading_time_minutes' : 4\n",
    "  }\n",
    "}"
   ]
  },
  {
   "cell_type": "code",
   "execution_count": 7,
   "metadata": {},
   "outputs": [
    {
     "data": {
      "text/plain": [
       "{'type_of': 'article',\n",
       " 'id': 1017144,\n",
       " 'title': 'Hello, World!',\n",
       " 'description': 'Hello DEV, this is my first post from DataCloudMag 2',\n",
       " 'readable_publish_date': 'Mar 9',\n",
       " 'slug': 'hello-world-3p82',\n",
       " 'path': '/aveekd22/hello-world-3p82',\n",
       " 'url': 'https://dev.to/aveekd22/hello-world-3p82',\n",
       " 'comments_count': 0,\n",
       " 'public_reactions_count': 0,\n",
       " 'collection_id': 17237,\n",
       " 'published_timestamp': '2022-03-09T09:40:39Z',\n",
       " 'positive_reactions_count': 0,\n",
       " 'cover_image': None,\n",
       " 'social_image': 'https://dev.to/social_previews/article/1017144.png',\n",
       " 'canonical_url': 'https://datacloudmag.com/solving-the-gilded-rose-refactoring-kata/',\n",
       " 'created_at': '2022-03-09T09:40:39Z',\n",
       " 'edited_at': None,\n",
       " 'crossposted_at': None,\n",
       " 'published_at': '2022-03-09T09:40:39Z',\n",
       " 'last_comment_at': '2022-03-09T09:40:39Z',\n",
       " 'reading_time_minutes': 1,\n",
       " 'tag_list': 'discuss, help',\n",
       " 'tags': ['discuss', 'help'],\n",
       " 'body_html': '<p>Hello DEV, this is my first post from DataCloudMag 2</p>\\n\\n',\n",
       " 'body_markdown': 'Hello DEV, this is my first post from DataCloudMag 2',\n",
       " 'user': {'name': 'Aveek Das',\n",
       "  'username': 'aveekd22',\n",
       "  'twitter_username': None,\n",
       "  'github_username': None,\n",
       "  'website_url': 'https://datacloudmag.com',\n",
       "  'profile_image': 'https://res.cloudinary.com/practicaldev/image/fetch/s--10GJBROl--/c_fill,f_auto,fl_progressive,h_640,q_auto,w_640/https://dev-to-uploads.s3.amazonaws.com/uploads/user/profile_image/568368/58822b00-2144-45ba-a9e5-9ab1003a3c48.jpg',\n",
       "  'profile_image_90': 'https://res.cloudinary.com/practicaldev/image/fetch/s--0VxT8Ivk--/c_fill,f_auto,fl_progressive,h_90,q_auto,w_90/https://dev-to-uploads.s3.amazonaws.com/uploads/user/profile_image/568368/58822b00-2144-45ba-a9e5-9ab1003a3c48.jpg'},\n",
       " 'flare_tag': {'name': 'discuss',\n",
       "  'bg_color_hex': '#000000',\n",
       "  'text_color_hex': '#FFFFFF'}}"
      ]
     },
     "execution_count": 7,
     "metadata": {},
     "output_type": "execute_result"
    }
   ],
   "source": [
    "r = requests.post(url, headers=headers, json=payload)\n",
    "\n",
    "r.status_code\n",
    "r.json()"
   ]
  }
 ],
 "metadata": {
  "interpreter": {
   "hash": "dbb473b6734f6ff61f49272fe0a5ccdf58cedc1b97d39a5410f65150485be57d"
  },
  "kernelspec": {
   "display_name": "Python 3.9.10 ('.venv': venv)",
   "language": "python",
   "name": "python3"
  },
  "language_info": {
   "codemirror_mode": {
    "name": "ipython",
    "version": 3
   },
   "file_extension": ".py",
   "mimetype": "text/x-python",
   "name": "python",
   "nbconvert_exporter": "python",
   "pygments_lexer": "ipython3",
   "version": "3.9.10"
  },
  "orig_nbformat": 4
 },
 "nbformat": 4,
 "nbformat_minor": 2
}
