{
 "cells": [
  {
   "cell_type": "code",
   "execution_count": 11,
   "metadata": {},
   "outputs": [],
   "source": [
    "import requests\n",
    "from config import Notion"
   ]
  },
  {
   "cell_type": "code",
   "execution_count": 52,
   "metadata": {},
   "outputs": [],
   "source": [
    "database_id = \"d8c3f00b92004a2daf1be3fa5f3caf1b\"\n",
    "\n",
    "url = f'https://api.notion.com/v1/databases/{database_id}/query'\n",
    "payload = {\"page_size\": 100}\n",
    "\n",
    "header = {\"Authorization\": Notion.API_KEY, \"Notion-Version\":\"2021-05-13\"}\n",
    "body = {\"filter\" : {\"property\": \"Day\", \"checkbox\": {\"equals\" : True}}}"
   ]
  },
  {
   "cell_type": "code",
   "execution_count": 53,
   "metadata": {},
   "outputs": [],
   "source": [
    "response = requests.post(url, headers=header, json=body)\n",
    "response_json = response.json()\n"
   ]
  },
  {
   "cell_type": "code",
   "execution_count": 54,
   "metadata": {},
   "outputs": [
    {
     "data": {
      "text/plain": [
       "{'object': 'page',\n",
       " 'id': 'd67069d1-d5a7-4030-b5d5-98c7fcdb5caa',\n",
       " 'created_time': '2022-04-13T07:49:00.000Z',\n",
       " 'last_edited_time': '2022-04-13T09:03:00.000Z',\n",
       " 'created_by': {'object': 'user',\n",
       "  'id': 'd7b47b8c-c9e9-4915-81ce-bd17bbff8853'},\n",
       " 'last_edited_by': {'object': 'user',\n",
       "  'id': 'd7b47b8c-c9e9-4915-81ce-bd17bbff8853'},\n",
       " 'cover': None,\n",
       " 'icon': None,\n",
       " 'parent': {'type': 'database_id',\n",
       "  'database_id': 'd8c3f00b-9200-4a2d-af1b-e3fa5f3caf1b'},\n",
       " 'archived': False,\n",
       " 'properties': {'Created At': {'id': '<Xmh',\n",
       "   'type': 'created_time',\n",
       "   'created_time': '2022-04-13T07:49:00.000Z'},\n",
       "  'Done?': {'id': 'M:;l', 'type': 'checkbox', 'checkbox': False},\n",
       "  'Day': {'id': '\\\\v|A', 'type': 'checkbox', 'checkbox': True},\n",
       "  'List': {'id': '__HI',\n",
       "   'type': 'select',\n",
       "   'select': {'id': '\\\\BJq', 'name': 'General', 'color': 'brown'}},\n",
       "  'Name': {'id': 'title',\n",
       "   'type': 'title',\n",
       "   'title': [{'type': 'text',\n",
       "     'text': {'content': 'Task added from My Day', 'link': None},\n",
       "     'annotations': {'bold': False,\n",
       "      'italic': False,\n",
       "      'strikethrough': False,\n",
       "      'underline': False,\n",
       "      'code': False,\n",
       "      'color': 'default'},\n",
       "     'plain_text': 'Task added from My Day',\n",
       "     'href': None}]}},\n",
       " 'url': 'https://www.notion.so/Task-added-from-My-Day-d67069d1d5a74030b5d598c7fcdb5caa'}"
      ]
     },
     "execution_count": 54,
     "metadata": {},
     "output_type": "execute_result"
    }
   ],
   "source": [
    "# response_json['results'][0]['properties']['Name']['title'][0]['plain_text']\n",
    "# response_json['results'][0]['id']\n",
    "\n",
    "response_json['results'][0]\n",
    "\n",
    "# for task in response_json['results']:\n",
    "#     print(f\"{task['properties']['Name']['title'][0]['plain_text']}    |   ID: {task['id']}\")"
   ]
  },
  {
   "cell_type": "code",
   "execution_count": 59,
   "metadata": {},
   "outputs": [],
   "source": [
    "page_id = \"d67069d1-d5a7-4030-b5d5-98c7fcdb5caa\"\n",
    "\n",
    "url = f'https://api.notion.com/v1/pages/{page_id}'\n",
    "\n",
    "header = {\"Authorization\": Notion.API_KEY, \"Notion-Version\":\"2022-02-22\"}\n",
    "body = {\n",
    "    \"properties\" : {\n",
    "        \"Day\" : {\n",
    "            \"checkbox\" : {\n",
    "                \"equals\" : False\n",
    "            }\n",
    "        }\n",
    "    }\n",
    "}\n",
    "\n",
    "payload = {\"properties\": {\"Day\" : True}}"
   ]
  },
  {
   "cell_type": "code",
   "execution_count": 60,
   "metadata": {},
   "outputs": [
    {
     "data": {
      "text/plain": [
       "{'object': 'page',\n",
       " 'id': 'd67069d1-d5a7-4030-b5d5-98c7fcdb5caa',\n",
       " 'created_time': '2022-04-13T07:49:00.000Z',\n",
       " 'last_edited_time': '2022-04-13T09:58:00.000Z',\n",
       " 'created_by': {'object': 'user',\n",
       "  'id': 'd7b47b8c-c9e9-4915-81ce-bd17bbff8853'},\n",
       " 'last_edited_by': {'object': 'user',\n",
       "  'id': 'a169204f-71e9-4012-b5a3-6d031cef3454'},\n",
       " 'cover': None,\n",
       " 'icon': None,\n",
       " 'parent': {'type': 'database_id',\n",
       "  'database_id': 'd8c3f00b-9200-4a2d-af1b-e3fa5f3caf1b'},\n",
       " 'archived': False,\n",
       " 'properties': {'Created At': {'id': '%3CXmh',\n",
       "   'type': 'created_time',\n",
       "   'created_time': '2022-04-13T07:49:00.000Z'},\n",
       "  'Done?': {'id': 'M%3A%3Bl', 'type': 'checkbox', 'checkbox': False},\n",
       "  'Day': {'id': '%5Cv%7CA', 'type': 'checkbox', 'checkbox': True},\n",
       "  'List': {'id': '__HI',\n",
       "   'type': 'select',\n",
       "   'select': {'id': '\\\\BJq', 'name': 'General', 'color': 'brown'}},\n",
       "  'Due': {'id': 'n%3FzF', 'type': 'date', 'date': None},\n",
       "  'Name': {'id': 'title',\n",
       "   'type': 'title',\n",
       "   'title': [{'type': 'text',\n",
       "     'text': {'content': 'Task added from My Day', 'link': None},\n",
       "     'annotations': {'bold': False,\n",
       "      'italic': False,\n",
       "      'strikethrough': False,\n",
       "      'underline': False,\n",
       "      'code': False,\n",
       "      'color': 'default'},\n",
       "     'plain_text': 'Task added from My Day',\n",
       "     'href': None}]}},\n",
       " 'url': 'https://www.notion.so/Task-added-from-My-Day-d67069d1d5a74030b5d598c7fcdb5caa'}"
      ]
     },
     "execution_count": 60,
     "metadata": {},
     "output_type": "execute_result"
    }
   ],
   "source": [
    "response = requests.request(\"PATCH\", url, headers=header, json=payload)\n",
    "# response_json = response.json()\n",
    "response.json()"
   ]
  },
  {
   "cell_type": "code",
   "execution_count": 49,
   "metadata": {},
   "outputs": [
    {
     "data": {
      "text/plain": [
       "{'object': 'error',\n",
       " 'status': 400,\n",
       " 'code': 'validation_error',\n",
       " 'message': 'body failed validation: body.properties.headers should be defined, instead was `undefined`.'}"
      ]
     },
     "execution_count": 49,
     "metadata": {},
     "output_type": "execute_result"
    }
   ],
   "source": [
    "response_json"
   ]
  }
 ],
 "metadata": {
  "interpreter": {
   "hash": "dbb473b6734f6ff61f49272fe0a5ccdf58cedc1b97d39a5410f65150485be57d"
  },
  "kernelspec": {
   "display_name": "Python 3.9.10 ('.venv': poetry)",
   "language": "python",
   "name": "python3"
  },
  "language_info": {
   "codemirror_mode": {
    "name": "ipython",
    "version": 3
   },
   "file_extension": ".py",
   "mimetype": "text/x-python",
   "name": "python",
   "nbconvert_exporter": "python",
   "pygments_lexer": "ipython3",
   "version": "3.9.10"
  },
  "orig_nbformat": 4
 },
 "nbformat": 4,
 "nbformat_minor": 2
}
