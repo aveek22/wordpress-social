{
 "cells": [
  {
   "cell_type": "markdown",
   "metadata": {},
   "source": [
    "## Post to a LinkedIn Page\n",
    "This notebook will help you post content to your LinkedIn Organization page.\n",
    "\n",
    "To-Dos\n",
    "* Create LinkedIn Organization\n",
    "* Create an app in LinkedIn Developers\n",
    "* Get the ClientID and Client Secret\n",
    "* Get approval from LinkedIn team (2 days)"
   ]
  },
  {
   "cell_type": "code",
   "execution_count": 1,
   "metadata": {},
   "outputs": [],
   "source": [
    "import requests                 # To deal with REST APIs\n",
    "import boto3                    # To store AccessKeys in AWS Secret Manager\n",
    "from config import LinkedIn     # Get configuration details"
   ]
  },
  {
   "cell_type": "code",
   "execution_count": 2,
   "metadata": {},
   "outputs": [],
   "source": [
    "# Get the ClientID and ClientSecret too get the access token\n",
    "client_id       = LinkedIn.CLIENT_ID\n",
    "client_secret   = LinkedIn.CLIENT_SECRET\n",
    "organization_id = LinkedIn.ORGANIZATION_ID"
   ]
  },
  {
   "cell_type": "markdown",
   "metadata": {},
   "source": [
    "To receive the Access Token, we need to make two REST API calls:\n",
    "1. A GET that will redirect you to a new URL. From this URL, you’ll need to extract the value in the parameter code.\n",
    "1. A POST that will return your brand new Access Token.\n",
    "\n",
    "https://towardsdatascience.com/linkedin-api-python-programmatically-publishing-d88a03f08ff1"
   ]
  },
  {
   "cell_type": "code",
   "execution_count": 3,
   "metadata": {},
   "outputs": [
    {
     "name": "stdout",
     "output_type": "stream",
     "text": [
      "https://www.linkedin.com/oauth/v2/authorization?response_type=code&client_id=77r8nkz77j9q3u&state=random&redirect_uri=https://datacloudmag.com/auth/linkedin/callback&scope=w_member_social,r_liteprofile,rw_organization_admin,r_organization_social,w_organization_social\n"
     ]
    }
   ],
   "source": [
    "base_url = \"https://www.linkedin.com/oauth/v2/authorization\"\n",
    "redirect_uri = \"https://datacloudmag.com/auth/linkedin/callback\"\n",
    "scope = \"w_member_social,r_liteprofile,rw_organization_admin,r_organization_social,w_organization_social\"\n",
    "\n",
    "params = {\n",
    "    'response_type' : 'code',\n",
    "    'client_id' : client_id,\n",
    "    'redirect_uri' : redirect_uri,\n",
    "    'state' : 'random',\n",
    "    'scope' : 'w_member_social,r_liteprofile'\n",
    "}\n",
    "\n",
    "# Creating a GET request with the above payload will return an HTML document\n",
    "# that will ask the user to grant specific permissions to the application.\n",
    "# So, we need to hit the URL in the browser directly and follow the steps.\n",
    "\n",
    "url = f\"{base_url}?response_type=code&client_id={client_id}&state=random&redirect_uri={redirect_uri}&scope={scope}\"\n",
    "print(url)"
   ]
  },
  {
   "cell_type": "markdown",
   "metadata": {},
   "source": [
    "Next Steps:\n",
    "1. Hit the above URL in the browser.\n",
    "1. You will be asked to signin with your LinkedIn username and password.\n",
    "1. Allow the application to access the required information.\n",
    "1. The response after signing in is below. Extract the **code** from the URL."
   ]
  },
  {
   "cell_type": "code",
   "execution_count": 4,
   "metadata": {},
   "outputs": [],
   "source": [
    "response_url = \"https://datacloudmag.com/auth/linkedin/callback?code=SOME_RANDOM_CODE&state=random\"\n",
    "\n",
    "auth_code = \"SOME_RANDOM_CODE\"\n",
    "auth_code = \"AQRzGVoabKv6F038H2R2nHfi8Z7O5iK5ErZuXMJoyqEnICxvNoOEWcWIcAPT6PUqrbs-hQo7-xJpw-KlDcENaMH6vW13gYucCTEnTXgXQWqv9DXdnvhthwBJDou0jMTI3mhoUu1jquzFBZy1EoLNHINJehvIdGIo2l95-fSD2vYE4SLnCjSQT7PLofTJsDxKjUNCrCkF9_401ha-rw0\""
   ]
  },
  {
   "cell_type": "markdown",
   "metadata": {},
   "source": [
    "### Get Access Token using code from previous step\n",
    "Now, using the **code** from the previous step, make the POST request."
   ]
  },
  {
   "cell_type": "code",
   "execution_count": 5,
   "metadata": {},
   "outputs": [
    {
     "name": "stdout",
     "output_type": "stream",
     "text": [
      "{'access_token': 'AQV9820MbGqrmRUbZh7CP9VqlFRfMn3VNg9Qw4KkXCpaP8Z8vboFVEU4cY1fS-lr_9yOWbb8O9z9AaVbDKGCdFZWV32W9_PHN95W36QDIomPZ4SXhwmN81r4ZsB9rV5YqIpdHiwV5uO2QcunHKxXMI6yDxbaShSc4hLWgKhKgbzL1zCvuVlFIYiQBxUofHD4aKHxX2GvgOVbDMJC4DS7zqueyQkwoFM1OaBC11HWzNugICKD7lD3lpM5FzLRc3drxt5gEVCLIyk0nLl0aEsFsuziKI0s2DAJDQPrOf8jzKOwhAJXfm8fxJzVNGbfQILtFEmEAs2wAC9FdTnfKQ70HBlfC4OYQg', 'expires_in': 5183999, 'refresh_token': 'AQVGG-mw2XLux5uAUsmHRZ8bkul4WN8uXi4vaI3FJ_U-KNKleBdxf3k8aFF6EcT5kvg_PsL4HOQbJVxXNcoEyMa-MQrf7q8qPwCIyrF4ij6C4h1dF8bko_vRuzO8ifM_ziMwLuwocCXh5XIJGewGAorLc93h5dkcZzkLcbYT6hWHr-WZYfdww2cvDle6389FARoaPZkxrobkSVqNSWAC4ySHRyg4YBFWN1HWT53d_9C5xLJpOdIx2xJu6uXuThMd6jWsJX5xsWZxHTFXXG2daF3hFJPQqcWIa2aVSXxcieB4M2EidBsTX1BZOQfIVCoOmgW7Nsr6-jPw0j0eZwRTQuZDiVMMLQ', 'refresh_token_expires_in': 31535999}\n"
     ]
    }
   ],
   "source": [
    "url_access_token = \"https://www.linkedin.com/oauth/v2/accessToken\"\n",
    "\n",
    "payload = {\n",
    "    'grant_type' : 'authorization_code',\n",
    "    'code' : auth_code,\n",
    "    'redirect_uri' : redirect_uri,\n",
    "    'client_id' : client_id,\n",
    "    'client_secret' : client_secret\n",
    "}\n",
    "\n",
    "response = requests.post(url=url_access_token, params=payload)\n",
    "\n",
    "response_json = response.json()\n",
    "\n",
    "print(response_json)"
   ]
  },
  {
   "cell_type": "code",
   "execution_count": 6,
   "metadata": {},
   "outputs": [],
   "source": [
    "# Extract the access_token from the response_json\n",
    "access_token = response_json['access_token']"
   ]
  },
  {
   "cell_type": "markdown",
   "metadata": {},
   "source": [
    "### Share the post on LinkedIn Page using the Access Token obtained."
   ]
  },
  {
   "cell_type": "code",
   "execution_count": 7,
   "metadata": {},
   "outputs": [
    {
     "name": "stdout",
     "output_type": "stream",
     "text": [
      "{'owner': 'urn:li:organization:79377523', 'activity': 'urn:li:activity:6908166778082746368', 'edited': False, 'created': {'actor': 'urn:li:person:G0CopwI-SP', 'time': 1647035307412}, 'text': {'annotations': [{'length': 9, 'start': 20, 'entity': 'urn:li:person:G0CopwI-SP'}], 'text': 'Code Refactoring by Aveek Das - Solving the Gilded Rose Refactoring Kata \\n#python #sql #refactoring'}, 'lastModified': {'actor': 'urn:li:person:G0CopwI-SP', 'time': 1647035307412}, 'id': '6908166777478778880', 'distribution': {'linkedInDistributionTarget': {'visibleToGuest': True}}, 'content': {'title': 'Test Share with Content', 'contentEntities': [{'thumbnails': [{'imageSpecificContent': {}, 'resolvedUrl': 'https://i0.wp.com/datacloudmag.com/wp-content/uploads/2022/02/pexels-photo-169573.jpeg?'}], 'title': 'Test Share with Content', 'entityLocation': 'https://datacloudmag.com/solving-the-gilded-rose-refactoring-kata/'}], 'shareMediaCategory': 'ARTICLE'}}\n"
     ]
    }
   ],
   "source": [
    "# Share post on LinkedIn\n",
    "\n",
    "# https://docs.microsoft.com/en-us/linkedin/marketing/integrations/community-management/shares/share-api?tabs=http\n",
    "\n",
    "url = \"https://api.linkedin.com/v2/shares\"\n",
    "\n",
    "headers = {\n",
    "    'Authorization' : f'Bearer {access_token}',\n",
    "    'Content-Type' : 'application/json'\n",
    "}\n",
    "\n",
    "payload = {\n",
    "    \"content\": {\n",
    "        \"contentEntities\": [\n",
    "            {\n",
    "                \"entityLocation\": \"https://datacloudmag.com/solving-the-gilded-rose-refactoring-kata/\",\n",
    "                \"thumbnails\": [\n",
    "                    {\n",
    "                        \"resolvedUrl\": \"https://i0.wp.com/datacloudmag.com/wp-content/uploads/2022/02/pexels-photo-169573.jpeg?\"\n",
    "                    }\n",
    "                ]\n",
    "            }\n",
    "        ],\n",
    "        \"title\": \"Test Share with Content\"\n",
    "    },\n",
    "    'distribution': {\n",
    "        'linkedInDistributionTarget': {}\n",
    "    },\n",
    "    'owner': f'urn:li:organization:{organization_id}',\n",
    "    'text': {\n",
    "        'text': f'Code Refactoring by Aveek Das - Solving the Gilded Rose Refactoring Kata \\n#python #sql #refactoring',\n",
    "        'annotations': [\n",
    "            {\n",
    "                'entity' : f'urn:li:person:G0CopwI-SP',\n",
    "                'length' : 9,\n",
    "                'start' : 20\n",
    "            }\n",
    "        ]\n",
    "    }\n",
    "}\n",
    "\n",
    "response = requests.post(url=url, headers=headers, json = payload)\n",
    "\n",
    "print(response.json())"
   ]
  },
  {
   "cell_type": "code",
   "execution_count": null,
   "metadata": {},
   "outputs": [],
   "source": [
    "# Get LinkedIn user ID\n",
    "\n",
    "url = \"https://api.linkedin.com/v2/me\"\n",
    "\n",
    "header = {\n",
    "    'Authorization' : f'Bearer {access_token}'\n",
    "}\n",
    "\n",
    "r = requests.get(url=url, headers=header)\n",
    "\n",
    "print(r.text)"
   ]
  },
  {
   "cell_type": "code",
   "execution_count": null,
   "metadata": {},
   "outputs": [],
   "source": [
    "# Get LinkedIn Access token from AWS SSM\n",
    "\n",
    "client = boto3.client('ssm')\n",
    "\n",
    "param = client.get_parameter(\n",
    "    Name = \"/social_integration/linkedin/access_token\",\n",
    "    WithDecryption = False\n",
    ")\n",
    "\n",
    "print(param['Parameter']['Value'])"
   ]
  },
  {
   "cell_type": "code",
   "execution_count": null,
   "metadata": {},
   "outputs": [],
   "source": [
    "text = \"In this article, Aveek Das describes how to refactor code.\"\n",
    "username = \"Aveek Das\"\n",
    "\n",
    "# start = 32\n",
    "# length = 9\n",
    "\n",
    "print(text.find(username))\n",
    "print(len(username))"
   ]
  }
 ],
 "metadata": {
  "interpreter": {
   "hash": "dbb473b6734f6ff61f49272fe0a5ccdf58cedc1b97d39a5410f65150485be57d"
  },
  "kernelspec": {
   "display_name": "Python 3.9.10 ('.venv': venv)",
   "language": "python",
   "name": "python3"
  },
  "language_info": {
   "codemirror_mode": {
    "name": "ipython",
    "version": 3
   },
   "file_extension": ".py",
   "mimetype": "text/x-python",
   "name": "python",
   "nbconvert_exporter": "python",
   "pygments_lexer": "ipython3",
   "version": "3.9.10"
  },
  "orig_nbformat": 4
 },
 "nbformat": 4,
 "nbformat_minor": 2
}
