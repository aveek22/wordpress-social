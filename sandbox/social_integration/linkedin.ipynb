{
 "cells": [
  {
   "cell_type": "code",
   "execution_count": null,
   "metadata": {},
   "outputs": [],
   "source": [
    "import requests\n",
    "import boto3\n",
    "from config import LinkedIn"
   ]
  },
  {
   "cell_type": "code",
   "execution_count": null,
   "metadata": {},
   "outputs": [],
   "source": [
    "client_id = LinkedIn.CLIENT_ID\n",
    "client_secret = LinkedIn.CLIENT_SECRET"
   ]
  },
  {
   "cell_type": "markdown",
   "metadata": {},
   "source": [
    "To get your Access Token, you need two REST calls:\n",
    "1. A GET that will redirect you to a new URL. From this URL, you’ll need to extrapolate the value in the parameter code.\n",
    "1. A POST that will return your brand new Access Token.\n",
    "\n",
    "https://towardsdatascience.com/linkedin-api-python-programmatically-publishing-d88a03f08ff1"
   ]
  },
  {
   "cell_type": "code",
   "execution_count": null,
   "metadata": {},
   "outputs": [],
   "source": [
    "url = \"https://www.linkedin.com/oauth/v2/authorization\"\n",
    "redirect_uri = \"https://datacloudmag.com/auth/linkedin/callback\"\n",
    "scope = \"w_member_social,r_liteprofile,rw_organization_admin,r_organization_social,w_organization_social\"\n",
    "\n",
    "params = {\n",
    "    'response_type' : 'code',\n",
    "    'client_id' : client_id,\n",
    "    'redirect_uri' : redirect_uri,\n",
    "    'state' : 'random',\n",
    "    'scope' : 'w_member_social,r_liteprofile'\n",
    "    # 'scope' : 'w_member_social,r_liteprofile,w_organization_social,r_organization_social'\n",
    "}\n",
    "\n",
    "# r = requests.get(url, params=params)\n",
    "\n",
    "# print(r.text)"
   ]
  },
  {
   "cell_type": "code",
   "execution_count": null,
   "metadata": {},
   "outputs": [],
   "source": [
    "url = f\"{url}?response_type=code&client_id={client_id}&state=random&redirect_uri={redirect_uri}&scope={scope}\"\n",
    "print(url)"
   ]
  },
  {
   "cell_type": "markdown",
   "metadata": {},
   "source": [
    "Hit the above URL in the browser.\n",
    "\n",
    "You will be asked to signin with your LinkedIn username and password.\n",
    "\n",
    "The response after signing in is below."
   ]
  },
  {
   "cell_type": "markdown",
   "metadata": {},
   "source": []
  },
  {
   "cell_type": "code",
   "execution_count": null,
   "metadata": {},
   "outputs": [],
   "source": [
    "response_url = \"https://datacloudmag.com/auth/linkedin/callback?code=somerandomcodefromurl&state=random\""
   ]
  },
  {
   "cell_type": "markdown",
   "metadata": {},
   "source": [
    "## Get Access Token using code from previous step"
   ]
  },
  {
   "cell_type": "code",
   "execution_count": null,
   "metadata": {},
   "outputs": [],
   "source": [
    "url_access_token = \"https://www.linkedin.com/oauth/v2/accessToken\"\n",
    "auth_code = \"somerandomcodefromurl\"\n",
    "\n",
    "payload = {\n",
    "    'grant_type' : 'authorization_code',\n",
    "    'code' : auth_code,\n",
    "    'redirect_uri' : redirect_uri,\n",
    "    'client_id' : client_id,\n",
    "    'client_secret' : client_secret\n",
    "}\n",
    "\n",
    "r = requests.post(url=url_access_token, params=payload)\n",
    "\n",
    "print(r.text)"
   ]
  },
  {
   "cell_type": "code",
   "execution_count": null,
   "metadata": {},
   "outputs": [],
   "source": [
    "access_token = \"\""
   ]
  },
  {
   "cell_type": "code",
   "execution_count": null,
   "metadata": {},
   "outputs": [],
   "source": [
    "# Share post on LinkedIn\n",
    "\n",
    "# https://docs.microsoft.com/en-us/linkedin/marketing/integrations/community-management/shares/share-api?tabs=http\n",
    "\n",
    "url = \"https://api.linkedin.com/v2/shares\"\n",
    "\n",
    "headers = {\n",
    "    'Authorization' : f'Bearer {access_token}',\n",
    "    'Content-Type' : 'application/json'\n",
    "}\n",
    "\n",
    "organization_id = \"79377523\"\n",
    "\n",
    "payload = {\n",
    "    \"content\": {\n",
    "        \"contentEntities\": [\n",
    "            {\n",
    "                \"entityLocation\": \"https://datacloudmag.com/solving-the-gilded-rose-refactoring-kata/\",\n",
    "                \"thumbnails\": [\n",
    "                    {\n",
    "                        \"resolvedUrl\": \"https://i0.wp.com/datacloudmag.com/wp-content/uploads/2022/02/pexels-photo-169573.jpeg?\"\n",
    "                    }\n",
    "                ]\n",
    "            }\n",
    "        ],\n",
    "        \"title\": \"Test Share with Content\"\n",
    "    },\n",
    "    'distribution': {\n",
    "        'linkedInDistributionTarget': {}\n",
    "    },\n",
    "    'owner': f'urn:li:organization:{organization_id}',\n",
    "    # 'subject': 'Test Share Subject'#,\n",
    "    'text': {\n",
    "        'text': f'Code Refactoring by Aveek Das - Solving the Gilded Rose Refactoring Kata \\n#python #sql',\n",
    "        'annotations': [\n",
    "            {\n",
    "                'entity' : f'urn:li:person:G0CopwI-SP',\n",
    "                'length' : 9,\n",
    "                'start' : 20\n",
    "            }\n",
    "        ]\n",
    "    }\n",
    "}\n",
    "\n",
    "r = requests.post(url=url, headers=headers, json = payload)\n",
    "\n",
    "print(r.text)"
   ]
  },
  {
   "cell_type": "code",
   "execution_count": null,
   "metadata": {},
   "outputs": [],
   "source": [
    "# Get LinkedIn user ID\n",
    "\n",
    "url = \"https://api.linkedin.com/v2/me\"\n",
    "\n",
    "header = {\n",
    "    'Authorization' : f'Bearer {access_token}'\n",
    "}\n",
    "\n",
    "r = requests.get(url=url, headers=header)\n",
    "\n",
    "print(r.text)"
   ]
  },
  {
   "cell_type": "code",
   "execution_count": null,
   "metadata": {},
   "outputs": [],
   "source": [
    "# Get LinkedIn Access token from AWS SSM\n",
    "\n",
    "client = boto3.client('ssm')\n",
    "\n",
    "param = client.get_parameter(\n",
    "    Name = \"/social_integration/linkedin/access_token\",\n",
    "    WithDecryption = False\n",
    ")\n",
    "\n",
    "print(param['Parameter']['Value'])"
   ]
  },
  {
   "cell_type": "code",
   "execution_count": null,
   "metadata": {},
   "outputs": [],
   "source": [
    "text = \"In this article, Aveek Das describes how to refactor code.\"\n",
    "username = \"Aveek Das\"\n",
    "\n",
    "# start = 32\n",
    "# length = 9\n",
    "\n",
    "print(text.find(username))\n",
    "print(len(username))"
   ]
  }
 ],
 "metadata": {
  "interpreter": {
   "hash": "dbb473b6734f6ff61f49272fe0a5ccdf58cedc1b97d39a5410f65150485be57d"
  },
  "kernelspec": {
   "display_name": "Python 3.9.10 ('.venv': venv)",
   "language": "python",
   "name": "python3"
  },
  "language_info": {
   "codemirror_mode": {
    "name": "ipython",
    "version": 3
   },
   "file_extension": ".py",
   "mimetype": "text/x-python",
   "name": "python",
   "nbconvert_exporter": "python",
   "pygments_lexer": "ipython3",
   "version": "3.9.10"
  },
  "orig_nbformat": 4
 },
 "nbformat": 4,
 "nbformat_minor": 2
}
