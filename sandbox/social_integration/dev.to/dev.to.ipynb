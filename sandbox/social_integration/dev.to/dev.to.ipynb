{
 "cells": [
  {
   "cell_type": "code",
   "execution_count": 1,
   "metadata": {},
   "outputs": [],
   "source": [
    "import requests\n",
    "from config import DevTo"
   ]
  },
  {
   "cell_type": "code",
   "execution_count": 2,
   "metadata": {},
   "outputs": [],
   "source": [
    "api_key = DevTo.API_KEY\n",
    "\n",
    "url = 'https://dev.to/api/articles'"
   ]
  },
  {
   "cell_type": "code",
   "execution_count": 3,
   "metadata": {},
   "outputs": [],
   "source": [
    "headers = {\n",
    "    'api-key' : f'{api_key}',\n",
    "    'content' : 'application/json'\n",
    "}"
   ]
  },
  {
   "cell_type": "code",
   "execution_count": 4,
   "metadata": {},
   "outputs": [
    {
     "data": {
      "text/plain": [
       "'# Introduction to LinkedIn REST API\\n\\n[LinkedIn](https://www.linkedin.com/) is a popular social media platform that allows users to connect to each other and maintain professional network. You can manage your profile and also create a company profile for your organization. An interesting feature of LinkedIn is the ability to share posts on your feed or on your organization’s feed. You can embed URLs, provide hashtags and emojis and also share images and videos in your post. Although the primary way of sharing content on LinkedIn is by using the web application, you can also do it programmatically using the [REST APIs](https://docs.microsoft.com/en-us/linkedin/) provided by LinkedIn and a programming language of your choice.\\n\\n## Pre-requisites\\n\\nIn order to proceed further, we need to have the following pre-requisites.\\n\\n1. **LinkedIn Account** - You need to have a LinkedIn account, if you do not have one, please head over to [https://www.linkedin.com/](https://www.linkedin.com/) and create one.\\n2. **REST APIs** - Some basic knowledge of using REST APIs.\\n3. **Python** - General programming knowledge of using python and using REST APIs in python.\\n\\nApart from the above-mentioned, I am going to use Jupyter notebooks to create the codebase and make it available using GitHub. At any point in time, you can choose to refer to the official documentation of LinkedIn from Microsoft, however, I will try to explain the process in simple terms.\\n\\n## Create the LinkedIn Company Page.\\n\\nLet’s create a company page from your LinkedIn account. You can think of any dummy name for your company to proceed forward. I am going to use my company as “*TheDataScholar*”.\\n\\n***Step 1***: Open LinkedIn account. Click on **Work** and select **Create a Company Page**. Click on **Company** and enter the details and click on **Create Page**. \\n\\n![https://i.imgur.com/bI4wFaj.png](https://i.imgur.com/bI4wFaj.png)\\n\\n***Step 2***: You need to provide the following details for your company page to be created.\\n\\n1. **Name** - The name of your company. I am using *TheDataScholar*.\\n2. **Company** **URL** - The LinkedIn username of your company.\\n3. **Website** - The website your company is hosted on. I am going to use “*https://thedatascholar.com*”.\\n4. **Industry** - Select as *Software*.\\n\\nOnce you submit the form, it might take up to 2 business days to get an answer by email. You will then notice the app has been added to your product list.\\n\\n>💡 The ***Marketing Developer Platform*** allows you to post content from your company page. Without adding it, you can still post content from your personal LinkedIn profile.\\n\\n\\n\\n## Get your LinkedIn profile ID\\n\\nIn order to post content from your LinkedIn profile, you need to obtain your profile ID. This can be done by querying the LinkedIn REST API directly.\\n\\n```python\\n# Get LinkedIn user ID\\nurl = \"https://api.linkedin.com/v2/me\"\\n\\nheader = {\\n    \\'Authorization\\' : f\\'Bearer {access_token}\\'\\n}\\n\\nresponse = requests.get(url=url, headers=header)\\nresponse_json_li_person = response.json()\\n\\nperson_id = response_json_li_person[\\'id\\']\\n\\n# https://gist.github.com/aveek22/de44ea0d5a0d322a0ce98c2e26ea4502\\n```\\n\\nNotice that I have passed the `access_token` as a bearer token in the authorization header. Also, I have stored the LinkedIn profile ID in a variable called `person_id`.\\n\\n[https://gist.github.com/aveek22/de44ea0d5a0d322a0ce98c2e26ea4502](https://gist.github.com/aveek22/de44ea0d5a0d322a0ce98c2e26ea4502)\\n\\n![https://i.imgur.com/LZmWo6s.png](https://i.imgur.com/LZmWo6s.png)\\n\\n## Conclusion\\n\\nIn this article, we have focused on how to use the LinkedIn REST APIs and share content from a personal profile as well as from an organization’s profile. This is just a beginner level introduction to using the LinkedIn REST APIs. Apart from sharing content, you can also use other [products](https://developer.linkedin.com/product-catalog) to interact with LinkedIn Ads, and Campaign Management Tools.\\n\\n### Resources\\n\\nIf you want to learn more about LinkedIn REST APIs, I would recommend reading through the following.\\n\\n- [https://docs.microsoft.com/en-us/linkedin/shared/authentication/authentication](https://docs.microsoft.com/en-us/linkedin/shared/authentication/authentication)\\n- [https://docs.microsoft.com/en-us/linkedin/marketing/integrations/community-management/shares/share-api](https://docs.microsoft.com/en-us/linkedin/marketing/integrations/community-management/shares/share-api)\\n- [https://developer.linkedin.com/product-catalog](https://developer.linkedin.com/product-catalog)'"
      ]
     },
     "execution_count": 4,
     "metadata": {},
     "output_type": "execute_result"
    }
   ],
   "source": [
    "with open('notion_input.md', 'r') as f:\n",
    "    content_md = f.read()\n",
    "\n",
    "content_md.find('<aside>')\n",
    "new_content = content_md.replace('<aside>\\n', '>')\n",
    "new_content.replace('</aside>','')"
   ]
  },
  {
   "cell_type": "code",
   "execution_count": 7,
   "metadata": {},
   "outputs": [],
   "source": [
    "payload = {\n",
    "  'article': {\n",
    "    'title': 'Introduction to LinkedIn REST API',\n",
    "    'published': True,\n",
    "    'body_markdown': f'{new_content}',\n",
    "    'tags': [\n",
    "      'python',\n",
    "      'rest',\n",
    "      'api'\n",
    "    ],\n",
    "    'series': 'Social Networking APIs',\n",
    "    'canonical_url' : 'https://datacloudmag.com/linkedin-rest-api-python/',\n",
    "    'social_image' : 'https://i0.wp.com/datacloudmag.com/wp-content/uploads/2022/03/pexels-photo-2115217.jpeg',\n",
    "    'reading_time_minutes' : 7\n",
    "  }\n",
    "}"
   ]
  },
  {
   "cell_type": "code",
   "execution_count": 8,
   "metadata": {},
   "outputs": [
    {
     "data": {
      "text/plain": [
       "{'type_of': 'article',\n",
       " 'id': 1022209,\n",
       " 'title': 'Introduction to LinkedIn REST API',\n",
       " 'description': 'Introduction to LinkedIn REST API   LinkedIn is a popular social media platform that allows...',\n",
       " 'readable_publish_date': 'Mar 14',\n",
       " 'slug': 'introduction-to-linkedin-rest-api-98h',\n",
       " 'path': '/aveekd22/introduction-to-linkedin-rest-api-98h',\n",
       " 'url': 'https://dev.to/aveekd22/introduction-to-linkedin-rest-api-98h',\n",
       " 'comments_count': 0,\n",
       " 'public_reactions_count': 0,\n",
       " 'collection_id': 17295,\n",
       " 'published_timestamp': '2022-03-14T10:29:59Z',\n",
       " 'positive_reactions_count': 0,\n",
       " 'cover_image': None,\n",
       " 'social_image': 'https://dev.to/social_previews/article/1022209.png',\n",
       " 'canonical_url': 'https://datacloudmag.com/linkedin-rest-api-python/',\n",
       " 'created_at': '2022-03-14T10:29:59Z',\n",
       " 'edited_at': None,\n",
       " 'crossposted_at': None,\n",
       " 'published_at': '2022-03-14T10:29:59Z',\n",
       " 'last_comment_at': '2022-03-14T10:29:59Z',\n",
       " 'reading_time_minutes': 3,\n",
       " 'tag_list': 'python, rest, api',\n",
       " 'tags': ['python', 'rest', 'api'],\n",
       " 'body_html': '<h1>\\n  <a name=\"introduction-to-linkedin-rest-api\" href=\"#introduction-to-linkedin-rest-api\">\\n  </a>\\n  Introduction to LinkedIn REST API\\n</h1>\\n\\n<p><a href=\"https://www.linkedin.com/\">LinkedIn</a> is a popular social media platform that allows users to connect to each other and maintain professional network. You can manage your profile and also create a company profile for your organization. An interesting feature of LinkedIn is the ability to share posts on your feed or on your organization’s feed. You can embed URLs, provide hashtags and emojis and also share images and videos in your post. Although the primary way of sharing content on LinkedIn is by using the web application, you can also do it programmatically using the <a href=\"https://docs.microsoft.com/en-us/linkedin/\">REST APIs</a> provided by LinkedIn and a programming language of your choice.</p>\\n\\n<h2>\\n  <a name=\"prerequisites\" href=\"#prerequisites\">\\n  </a>\\n  Pre-requisites\\n</h2>\\n\\n<p>In order to proceed further, we need to have the following pre-requisites.</p>\\n\\n<ol>\\n<li>\\n<strong>LinkedIn Account</strong> - You need to have a LinkedIn account, if you do not have one, please head over to <a href=\"https://www.linkedin.com/\">https://www.linkedin.com/</a> and create one.</li>\\n<li>\\n<strong>REST APIs</strong> - Some basic knowledge of using REST APIs.</li>\\n<li>\\n<strong>Python</strong> - General programming knowledge of using python and using REST APIs in python.</li>\\n</ol>\\n\\n<p>Apart from the above-mentioned, I am going to use Jupyter notebooks to create the codebase and make it available using GitHub. At any point in time, you can choose to refer to the official documentation of LinkedIn from Microsoft, however, I will try to explain the process in simple terms.</p>\\n\\n<h2>\\n  <a name=\"create-the-linkedin-company-page\" href=\"#create-the-linkedin-company-page\">\\n  </a>\\n  Create the LinkedIn Company Page.\\n</h2>\\n\\n<p>Let’s create a company page from your LinkedIn account. You can think of any dummy name for your company to proceed forward. I am going to use my company as “<em>TheDataScholar</em>”.</p>\\n\\n<p><strong><em>Step 1</em></strong>: Open LinkedIn account. Click on <strong>Work</strong> and select <strong>Create a Company Page</strong>. Click on <strong>Company</strong> and enter the details and click on <strong>Create Page</strong>. </p>\\n\\n<p><a href=\"https://res.cloudinary.com/practicaldev/image/fetch/s--yLz-f4QB--/c_limit%2Cf_auto%2Cfl_progressive%2Cq_auto%2Cw_880/https://i.imgur.com/bI4wFaj.png\" class=\"article-body-image-wrapper\"><img src=\"https://res.cloudinary.com/practicaldev/image/fetch/s--yLz-f4QB--/c_limit%2Cf_auto%2Cfl_progressive%2Cq_auto%2Cw_880/https://i.imgur.com/bI4wFaj.png\" alt=\"https://i.imgur.com/bI4wFaj.png\" loading=\"lazy\"></a></p>\\n\\n<p><strong><em>Step 2</em></strong>: You need to provide the following details for your company page to be created.</p>\\n\\n<ol>\\n<li>\\n<strong>Name</strong> - The name of your company. I am using <em>TheDataScholar</em>.</li>\\n<li>\\n<strong>Company</strong> <strong>URL</strong> - The LinkedIn username of your company.</li>\\n<li>\\n<strong>Website</strong> - The website your company is hosted on. I am going to use “<em><a href=\"https://thedatascholar.com\">https://thedatascholar.com</a></em>”.</li>\\n<li>\\n<strong>Industry</strong> - Select as <em>Software</em>.</li>\\n</ol>\\n\\n<p>Once you submit the form, it might take up to 2 business days to get an answer by email. You will then notice the app has been added to your product list.</p>\\n\\n<blockquote>\\n<p>💡 The <strong><em>Marketing Developer Platform</em></strong> allows you to post content from your company page. Without adding it, you can still post content from your personal LinkedIn profile.</p>\\n</blockquote>\\n\\n\\n\\n<h2>\\n  <a name=\"get-your-linkedin-profile-id\" href=\"#get-your-linkedin-profile-id\">\\n  </a>\\n  Get your LinkedIn profile ID\\n</h2>\\n\\n<p>In order to post content from your LinkedIn profile, you need to obtain your profile ID. This can be done by querying the LinkedIn REST API directly.<br>\\n</p>\\n\\n<div class=\"highlight js-code-highlight\">\\n<pre class=\"highlight python\"><code><span class=\"c1\"># Get LinkedIn user ID\\n</span><span class=\"n\">url</span> <span class=\"o\">=</span> <span class=\"s\">\"https://api.linkedin.com/v2/me\"</span>\\n\\n<span class=\"n\">header</span> <span class=\"o\">=</span> <span class=\"p\">{</span>\\n    <span class=\"s\">\\'Authorization\\'</span> <span class=\"p\">:</span> <span class=\"sa\">f</span><span class=\"s\">\\'Bearer </span><span class=\"si\">{</span><span class=\"n\">access_token</span><span class=\"si\">}</span><span class=\"s\">\\'</span>\\n<span class=\"p\">}</span>\\n\\n<span class=\"n\">response</span> <span class=\"o\">=</span> <span class=\"n\">requests</span><span class=\"p\">.</span><span class=\"n\">get</span><span class=\"p\">(</span><span class=\"n\">url</span><span class=\"o\">=</span><span class=\"n\">url</span><span class=\"p\">,</span> <span class=\"n\">headers</span><span class=\"o\">=</span><span class=\"n\">header</span><span class=\"p\">)</span>\\n<span class=\"n\">response_json_li_person</span> <span class=\"o\">=</span> <span class=\"n\">response</span><span class=\"p\">.</span><span class=\"n\">json</span><span class=\"p\">()</span>\\n\\n<span class=\"n\">person_id</span> <span class=\"o\">=</span> <span class=\"n\">response_json_li_person</span><span class=\"p\">[</span><span class=\"s\">\\'id\\'</span><span class=\"p\">]</span>\\n\\n<span class=\"c1\"># https://gist.github.com/aveek22/de44ea0d5a0d322a0ce98c2e26ea4502\\n</span></code></pre>\\n<div class=\"highlight__panel js-actions-panel\">\\n<div class=\"highlight__panel-action js-fullscreen-code-action\">\\n    <svg xmlns=\"http://www.w3.org/2000/svg\" width=\"20px\" height=\"20px\" viewbox=\"0 0 24 24\" class=\"highlight-action crayons-icon highlight-action--fullscreen-on\"><title>Enter fullscreen mode</title>\\n    <path d=\"M16 3h6v6h-2V5h-4V3zM2 3h6v2H4v4H2V3zm18 16v-4h2v6h-6v-2h4zM4 19h4v2H2v-6h2v4z\"></path>\\n</svg>\\n\\n    <svg xmlns=\"http://www.w3.org/2000/svg\" width=\"20px\" height=\"20px\" viewbox=\"0 0 24 24\" class=\"highlight-action crayons-icon highlight-action--fullscreen-off\"><title>Exit fullscreen mode</title>\\n    <path d=\"M18 7h4v2h-6V3h2v4zM8 9H2V7h4V3h2v6zm10 8v4h-2v-6h6v2h-4zM8 15v6H6v-4H2v-2h6z\"></path>\\n</svg>\\n\\n</div>\\n</div>\\n</div>\\n\\n\\n\\n<p>Notice that I have passed the <code>access_token</code> as a bearer token in the authorization header. Also, I have stored the LinkedIn profile ID in a variable called <code>person_id</code>.</p>\\n\\n<p><a href=\"https://gist.github.com/aveek22/de44ea0d5a0d322a0ce98c2e26ea4502\">https://gist.github.com/aveek22/de44ea0d5a0d322a0ce98c2e26ea4502</a></p>\\n\\n<p><a href=\"https://res.cloudinary.com/practicaldev/image/fetch/s--OmS4wAEt--/c_limit%2Cf_auto%2Cfl_progressive%2Cq_auto%2Cw_880/https://i.imgur.com/LZmWo6s.png\" class=\"article-body-image-wrapper\"><img src=\"https://res.cloudinary.com/practicaldev/image/fetch/s--OmS4wAEt--/c_limit%2Cf_auto%2Cfl_progressive%2Cq_auto%2Cw_880/https://i.imgur.com/LZmWo6s.png\" alt=\"https://i.imgur.com/LZmWo6s.png\" loading=\"lazy\"></a></p>\\n\\n<h2>\\n  <a name=\"conclusion\" href=\"#conclusion\">\\n  </a>\\n  Conclusion\\n</h2>\\n\\n<p>In this article, we have focused on how to use the LinkedIn REST APIs and share content from a personal profile as well as from an organization’s profile. This is just a beginner level introduction to using the LinkedIn REST APIs. Apart from sharing content, you can also use other <a href=\"https://developer.linkedin.com/product-catalog\">products</a> to interact with LinkedIn Ads, and Campaign Management Tools.</p>\\n\\n<h3>\\n  <a name=\"resources\" href=\"#resources\">\\n  </a>\\n  Resources\\n</h3>\\n\\n<p>If you want to learn more about LinkedIn REST APIs, I would recommend reading through the following.</p>\\n\\n<ul>\\n<li><a href=\"https://docs.microsoft.com/en-us/linkedin/shared/authentication/authentication\">https://docs.microsoft.com/en-us/linkedin/shared/authentication/authentication</a></li>\\n<li><a href=\"https://docs.microsoft.com/en-us/linkedin/marketing/integrations/community-management/shares/share-api\">https://docs.microsoft.com/en-us/linkedin/marketing/integrations/community-management/shares/share-api</a></li>\\n<li><a href=\"https://developer.linkedin.com/product-catalog\">https://developer.linkedin.com/product-catalog</a></li>\\n</ul>\\n\\n',\n",
       " 'body_markdown': '# Introduction to LinkedIn REST API\\n\\n[LinkedIn](https://www.linkedin.com/) is a popular social media platform that allows users to connect to each other and maintain professional network. You can manage your profile and also create a company profile for your organization. An interesting feature of LinkedIn is the ability to share posts on your feed or on your organization’s feed. You can embed URLs, provide hashtags and emojis and also share images and videos in your post. Although the primary way of sharing content on LinkedIn is by using the web application, you can also do it programmatically using the [REST APIs](https://docs.microsoft.com/en-us/linkedin/) provided by LinkedIn and a programming language of your choice.\\n\\n## Pre-requisites\\n\\nIn order to proceed further, we need to have the following pre-requisites.\\n\\n1. **LinkedIn Account** - You need to have a LinkedIn account, if you do not have one, please head over to [https://www.linkedin.com/](https://www.linkedin.com/) and create one.\\n2. **REST APIs** - Some basic knowledge of using REST APIs.\\n3. **Python** - General programming knowledge of using python and using REST APIs in python.\\n\\nApart from the above-mentioned, I am going to use Jupyter notebooks to create the codebase and make it available using GitHub. At any point in time, you can choose to refer to the official documentation of LinkedIn from Microsoft, however, I will try to explain the process in simple terms.\\n\\n## Create the LinkedIn Company Page.\\n\\nLet’s create a company page from your LinkedIn account. You can think of any dummy name for your company to proceed forward. I am going to use my company as “*TheDataScholar*”.\\n\\n***Step 1***: Open LinkedIn account. Click on **Work** and select **Create a Company Page**. Click on **Company** and enter the details and click on **Create Page**. \\n\\n![https://i.imgur.com/bI4wFaj.png](https://i.imgur.com/bI4wFaj.png)\\n\\n***Step 2***: You need to provide the following details for your company page to be created.\\n\\n1. **Name** - The name of your company. I am using *TheDataScholar*.\\n2. **Company** **URL** - The LinkedIn username of your company.\\n3. **Website** - The website your company is hosted on. I am going to use “*https://thedatascholar.com*”.\\n4. **Industry** - Select as *Software*.\\n\\nOnce you submit the form, it might take up to 2 business days to get an answer by email. You will then notice the app has been added to your product list.\\n\\n>💡 The ***Marketing Developer Platform*** allows you to post content from your company page. Without adding it, you can still post content from your personal LinkedIn profile.\\n\\n</aside>\\n\\n## Get your LinkedIn profile ID\\n\\nIn order to post content from your LinkedIn profile, you need to obtain your profile ID. This can be done by querying the LinkedIn REST API directly.\\n\\n```python\\n# Get LinkedIn user ID\\nurl = \"https://api.linkedin.com/v2/me\"\\n\\nheader = {\\n    \\'Authorization\\' : f\\'Bearer {access_token}\\'\\n}\\n\\nresponse = requests.get(url=url, headers=header)\\nresponse_json_li_person = response.json()\\n\\nperson_id = response_json_li_person[\\'id\\']\\n\\n# https://gist.github.com/aveek22/de44ea0d5a0d322a0ce98c2e26ea4502\\n```\\n\\nNotice that I have passed the `access_token` as a bearer token in the authorization header. Also, I have stored the LinkedIn profile ID in a variable called `person_id`.\\n\\n[https://gist.github.com/aveek22/de44ea0d5a0d322a0ce98c2e26ea4502](https://gist.github.com/aveek22/de44ea0d5a0d322a0ce98c2e26ea4502)\\n\\n![https://i.imgur.com/LZmWo6s.png](https://i.imgur.com/LZmWo6s.png)\\n\\n## Conclusion\\n\\nIn this article, we have focused on how to use the LinkedIn REST APIs and share content from a personal profile as well as from an organization’s profile. This is just a beginner level introduction to using the LinkedIn REST APIs. Apart from sharing content, you can also use other [products](https://developer.linkedin.com/product-catalog) to interact with LinkedIn Ads, and Campaign Management Tools.\\n\\n### Resources\\n\\nIf you want to learn more about LinkedIn REST APIs, I would recommend reading through the following.\\n\\n- [https://docs.microsoft.com/en-us/linkedin/shared/authentication/authentication](https://docs.microsoft.com/en-us/linkedin/shared/authentication/authentication)\\n- [https://docs.microsoft.com/en-us/linkedin/marketing/integrations/community-management/shares/share-api](https://docs.microsoft.com/en-us/linkedin/marketing/integrations/community-management/shares/share-api)\\n- [https://developer.linkedin.com/product-catalog](https://developer.linkedin.com/product-catalog)',\n",
       " 'user': {'name': 'Aveek Das',\n",
       "  'username': 'aveekd22',\n",
       "  'twitter_username': 'avikoleum',\n",
       "  'github_username': None,\n",
       "  'website_url': 'https://datacloudmag.com',\n",
       "  'profile_image': 'https://res.cloudinary.com/practicaldev/image/fetch/s--10GJBROl--/c_fill,f_auto,fl_progressive,h_640,q_auto,w_640/https://dev-to-uploads.s3.amazonaws.com/uploads/user/profile_image/568368/58822b00-2144-45ba-a9e5-9ab1003a3c48.jpg',\n",
       "  'profile_image_90': 'https://res.cloudinary.com/practicaldev/image/fetch/s--0VxT8Ivk--/c_fill,f_auto,fl_progressive,h_90,q_auto,w_90/https://dev-to-uploads.s3.amazonaws.com/uploads/user/profile_image/568368/58822b00-2144-45ba-a9e5-9ab1003a3c48.jpg'}}"
      ]
     },
     "execution_count": 8,
     "metadata": {},
     "output_type": "execute_result"
    }
   ],
   "source": [
    "r = requests.post(url, headers=headers, json=payload)\n",
    "\n",
    "r.status_code\n",
    "r.json()"
   ]
  }
 ],
 "metadata": {
  "interpreter": {
   "hash": "dbb473b6734f6ff61f49272fe0a5ccdf58cedc1b97d39a5410f65150485be57d"
  },
  "kernelspec": {
   "display_name": "Python 3.9.10 ('.venv': venv)",
   "language": "python",
   "name": "python3"
  },
  "language_info": {
   "codemirror_mode": {
    "name": "ipython",
    "version": 3
   },
   "file_extension": ".py",
   "mimetype": "text/x-python",
   "name": "python",
   "nbconvert_exporter": "python",
   "pygments_lexer": "ipython3",
   "version": "3.9.10"
  },
  "orig_nbformat": 4
 },
 "nbformat": 4,
 "nbformat_minor": 2
}
