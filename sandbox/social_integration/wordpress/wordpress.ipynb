{
 "cells": [
  {
   "cell_type": "code",
   "execution_count": null,
   "metadata": {},
   "outputs": [],
   "source": [
    "import requests\n",
    "from config import Wordpress"
   ]
  },
  {
   "cell_type": "code",
   "execution_count": null,
   "metadata": {},
   "outputs": [],
   "source": [
    "WORDPRESS_URL = 'https://public-api.wordpress.com/'\n",
    "AUTH_TOKEN_URL = f'{WORDPRESS_URL}oauth2/token'\n",
    "POSTS_URL = f'{WORDPRESS_URL}rest/v1.1/sites/{Wordpress.SITE_ID}/posts/{Wordpress.POST_ID}'"
   ]
  },
  {
   "cell_type": "code",
   "execution_count": null,
   "metadata": {},
   "outputs": [],
   "source": [
    "auth_message_body = {\n",
    "    'client_id': Wordpress.CLIENT_ID,\n",
    "    'client_secret': Wordpress.CLIENT_SECRET,\n",
    "    'grant_type': Wordpress.GRANT_TYPE,\n",
    "    'username': Wordpress.USERNAME,\n",
    "    'password': Wordpress.APP_PASSWORD\n",
    "}\n",
    "\n",
    "response = requests.post(AUTH_TOKEN_URL, data=auth_message_body)\n",
    "response_json = response.json()\n",
    "\n",
    "ACCESS_TOKEN = response_json['access_token']"
   ]
  },
  {
   "cell_type": "code",
   "execution_count": null,
   "metadata": {},
   "outputs": [],
   "source": [
    "# Get Post content\n",
    "headers = {\n",
    "    'Authorization': f'Bearer {ACCESS_TOKEN}'\n",
    "}\n",
    "\n",
    "posts_response = requests.get(POSTS_URL, headers=headers)\n",
    "\n",
    "posts_response_json = posts_response.json()\n",
    "\n",
    "print(posts_response_json['posts'][0]['content'])"
   ]
  },
  {
   "cell_type": "code",
   "execution_count": null,
   "metadata": {},
   "outputs": [],
   "source": [
    "# Create new post\n",
    "\n",
    "url = f'{WORDPRESS_URL}rest/v1.2/sites/{Wordpress.SITE_ID}/posts/new'\n",
    "\n",
    "header = {\n",
    "    'Authorization': f'Bearer {ACCESS_TOKEN}'\n",
    "}\n",
    "\n",
    "data = {\n",
    "    'title' : \"Hello From python\",\n",
    "    'content' : \"This is test HTML content. <p>This is a paragraph.</p><h1>Heading 1</h1>\",\n",
    "    'tags' : 'python, wordpress',\n",
    "    'categories' : 'Python'\n",
    "}\n",
    "\n",
    "response = requests.post(url=url, headers=header, json=data)\n",
    "response_json = response.json()\n",
    "\n",
    "print(response_json)"
   ]
  }
 ],
 "metadata": {
  "interpreter": {
   "hash": "dbb473b6734f6ff61f49272fe0a5ccdf58cedc1b97d39a5410f65150485be57d"
  },
  "kernelspec": {
   "display_name": "Python 3.9.10 ('.venv': venv)",
   "language": "python",
   "name": "python3"
  },
  "language_info": {
   "codemirror_mode": {
    "name": "ipython",
    "version": 3
   },
   "file_extension": ".py",
   "mimetype": "text/x-python",
   "name": "python",
   "nbconvert_exporter": "python",
   "pygments_lexer": "ipython3",
   "version": "3.9.10"
  },
  "orig_nbformat": 4
 },
 "nbformat": 4,
 "nbformat_minor": 2
}
