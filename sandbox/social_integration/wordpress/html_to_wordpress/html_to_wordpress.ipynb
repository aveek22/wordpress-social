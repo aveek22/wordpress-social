{
 "cells": [
  {
   "cell_type": "code",
   "execution_count": 1,
   "metadata": {},
   "outputs": [],
   "source": [
    "import requests\n",
    "from config import Wordpress\n",
    "import markdown"
   ]
  },
  {
   "cell_type": "code",
   "execution_count": 2,
   "metadata": {},
   "outputs": [],
   "source": [
    "WORDPRESS_URL = 'https://public-api.wordpress.com/'\n",
    "AUTH_TOKEN_URL = f'{WORDPRESS_URL}oauth2/token'\n",
    "POSTS_URL = f'{WORDPRESS_URL}rest/v1.1/sites/{Wordpress.SITE_ID}/posts/{Wordpress.POST_ID}'"
   ]
  },
  {
   "cell_type": "code",
   "execution_count": 3,
   "metadata": {},
   "outputs": [],
   "source": [
    "auth_message_body = {\n",
    "    'client_id': Wordpress.CLIENT_ID,\n",
    "    'client_secret': Wordpress.CLIENT_SECRET,\n",
    "    'grant_type': Wordpress.GRANT_TYPE,\n",
    "    'username': Wordpress.USERNAME,\n",
    "    'password': Wordpress.APP_PASSWORD\n",
    "}\n",
    "\n",
    "response = requests.post(AUTH_TOKEN_URL, data=auth_message_body)\n",
    "response_json = response.json()\n",
    "\n",
    "ACCESS_TOKEN = response_json['access_token']"
   ]
  },
  {
   "cell_type": "code",
   "execution_count": 4,
   "metadata": {},
   "outputs": [],
   "source": [
    "# https://www.devdungeon.com/content/convert-markdown-html-python\n",
    "\n",
    "markdown.markdownFromFile(\n",
    "    input='notion_input.md',\n",
    "    output='notion_python_output.html',\n",
    "    encoding='utf8',\n",
    "    extensions=['fenced_code']\n",
    ")"
   ]
  },
  {
   "cell_type": "code",
   "execution_count": 5,
   "metadata": {},
   "outputs": [],
   "source": [
    "with open('notion_python_output.html', 'r') as f:\n",
    "    content_html = f.read()"
   ]
  },
  {
   "cell_type": "code",
   "execution_count": 6,
   "metadata": {},
   "outputs": [
    {
     "name": "stdout",
     "output_type": "stream",
     "text": [
      "{'ID': 1109, 'site_ID': 167697861, 'author': {'ID': 106784275, 'login': 'aveekd22', 'email': False, 'name': 'Aveek', 'first_name': 'Aveek', 'last_name': 'Das', 'nice_name': 'aveekd22', 'URL': 'https://datacloudmag.com', 'avatar_URL': 'https://secure.gravatar.com/avatar/fc1459d34c2a2d58a7939ca98d48c1a3?s=96&d=identicon&r=g', 'profile_URL': 'https://en.gravatar.com/fc1459d34c2a2d58a7939ca98d48c1a3'}, 'date': '2022-03-25T13:44:11+01:00', 'modified': '2022-03-25T13:44:11+01:00', 'title': 'Hello From python HTML tutorial latest 2', 'URL': 'https://datacloudmag.com/hello-from-python-html-tutorial-latest-2/', 'short_URL': 'https://wp.me/pblDSd-hT', 'content': '<h1>Introduction to LinkedIn REST API (Sandbox)</h1>\\n<p><a href=\"https://www.linkedin.com/\">LinkedIn</a> is a popular social media platform that allows users to connect to each other and maintain professional network. You can manage your profile and also create a company profile for your organization. An interesting feature of LinkedIn is the ability to share posts on your feed or on your organization’s feed. You can embed URLs, provide hashtags and emojis and also share images and videos in your post. Although the primary way of sharing content on LinkedIn is by using the web application, you can also do it programmatically using the <a href=\"https://docs.microsoft.com/en-us/linkedin/\">REST APIs</a> provided by LinkedIn and a programming language of your choice.</p>\\n<h2>Pre-requisites</h2>\\n<p>In order to proceed further, we need to have the following pre-requisites.</p>\\n<ol>\\n<li><strong>LinkedIn Account</strong> &#8211; You need to have a LinkedIn account, if you do not have one, please head over to <a href=\"https://www.linkedin.com/\">https://www.linkedin.com/</a> and create one.</li>\\n<li><strong>REST APIs</strong> &#8211; Some basic knowledge of using REST APIs.</li>\\n<li><strong>Python</strong> &#8211; General programming knowledge of using python and using REST APIs in python.</li>\\n</ol>\\n<p>Apart from the above-mentioned, I am going to use Jupyter notebooks to create the codebase and make it available using GitHub. At any point in time, you can choose to refer to the official documentation of LinkedIn from Microsoft, however, I will try to explain the process in simple terms.</p>\\n<h2>Create the LinkedIn Company Page.</h2>\\n<p>Let’s create a company page from your LinkedIn account. You can think of any dummy name for your company to proceed forward. I am going to use my company as “<em>TheDataScholar</em>”.</p>\\n<p><strong><em>Step 1</em></strong>: Open LinkedIn account. Click on <strong>Work</strong> and select <strong>Create a Company Page</strong>. Click on <strong>Company</strong> and enter the details and click on <strong>Create Page</strong>. </p>\\n<p><img alt=\"https://i0.wp.com/i.imgur.com/bI4wFaj.png?ssl=1\" src=\"https://i0.wp.com/i.imgur.com/bI4wFaj.png?ssl=1\" data-recalc-dims=\"1\" /></p>\\n<p><strong><em>Step 2</em></strong>: You need to provide the following details for your company page to be created.</p>\\n<ol>\\n<li><strong>Name</strong> &#8211; The name of your company. I am using <em>TheDataScholar</em>.</li>\\n<li><strong>Company</strong> <strong>URL</strong> &#8211; The LinkedIn username of your company.</li>\\n<li><strong>Website</strong> &#8211; The website your company is hosted on. I am going to use “<em><a href=\"https://thedatascholar.com\" rel=\"nofollow\">https://thedatascholar.com</a></em>”.</li>\\n<li><strong>Industry</strong> &#8211; Select as <em>Software</em>.</li>\\n</ol>\\n<p>Once you submit the form, it might take up to 2 business days to get an answer by email. You will then notice the app has been added to your product list.</p>\\n<aside>\\n💡 The ***Marketing Developer Platform*** allows you to post content from your company page. Without adding it, you can still post content from your personal LinkedIn profile.</p>\\n</aside>\\n<h2>Get your LinkedIn profile ID</h2>\\n<p>In order to post content from your LinkedIn profile, you need to obtain your profile ID. This can be done by querying the LinkedIn REST API directly.</p>\\n<pre><code class=\"language-python\"># Get LinkedIn user ID\\nurl = &quot;https://api.linkedin.com/v2/me&quot;\\n\\nheader = {\\n    \\'Authorization\\' : f\\'Bearer {access_token}\\'\\n}\\n\\nresponse = requests.get(url=url, headers=header)\\nresponse_json_li_person = response.json()\\n\\nperson_id = response_json_li_person[\\'id\\']\\n\\n# https://gist.github.com/aveek22/de44ea0d5a0d322a0ce98c2e26ea4502\\n</code></pre>\\n<p>Notice that I have passed the <code>access_token</code> as a bearer token in the authorization header. Also, I have stored the LinkedIn profile ID in a variable called <code>person_id</code>.</p>\\n<p><a href=\"https://gist.github.com/aveek22/de44ea0d5a0d322a0ce98c2e26ea4502\">https://gist.github.com/aveek22/de44ea0d5a0d322a0ce98c2e26ea4502</a></p>\\n<p><img alt=\"https://i0.wp.com/i.imgur.com/LZmWo6s.png?ssl=1\" src=\"https://i0.wp.com/i.imgur.com/LZmWo6s.png?ssl=1\" data-recalc-dims=\"1\" /></p>\\n<h2>Conclusion</h2>\\n<p>In this article, we have focused on how to use the LinkedIn REST APIs and share content from a personal profile as well as from an organization’s profile. This is just a beginner level introduction to using the LinkedIn REST APIs. Apart from sharing content, you can also use other <a href=\"https://developer.linkedin.com/product-catalog\">products</a> to interact with LinkedIn Ads, and Campaign Management Tools.</p>\\n<h3>Resources</h3>\\n<p>If you want to learn more about LinkedIn REST APIs, I would recommend reading through the following.</p>\\n<ul>\\n<li><a href=\"https://docs.microsoft.com/en-us/linkedin/shared/authentication/authentication\">https://docs.microsoft.com/en-us/linkedin/shared/authentication/authentication</a></li>\\n<li><a href=\"https://docs.microsoft.com/en-us/linkedin/marketing/integrations/community-management/shares/share-api\">https://docs.microsoft.com/en-us/linkedin/marketing/integrations/community-management/shares/share-api</a></li>\\n<li><a href=\"https://developer.linkedin.com/product-catalog\">https://developer.linkedin.com/product-catalog</a></li>\\n</ul>\\n', 'excerpt': '<p>Introduction to LinkedIn REST API (Sandbox) LinkedIn is a popular social media platform that allows users to connect to each other and maintain professional network. You can manage your profile and also create a company profile for your organization. An interesting feature of LinkedIn is the ability to share posts on your feed or on [&hellip;]</p>\\n', 'slug': 'hello-from-python-html-tutorial-latest-2', 'guid': 'https://datacloudmag.com/hello-from-python-html-tutorial-latest-2/', 'status': 'publish', 'sticky': False, 'password': '', 'parent': False, 'type': 'post', 'discussion': {'comments_open': True, 'comment_status': 'open', 'pings_open': True, 'ping_status': 'open', 'comment_count': 0}, 'likes_enabled': True, 'sharing_enabled': True, 'like_count': 0, 'i_like': False, 'is_reblogged': False, 'is_following': True, 'global_ID': 'b0231bc335902b6c43945327a0d4ba0a', 'featured_image': '', 'format': 'standard', 'geo': False, 'menu_order': 0, 'page_template': '', 'publicize_URLs': [], 'terms': {'category': {'Python': {'ID': 352048818, 'name': 'Python', 'slug': 'python', 'description': 'All about Python.', 'post_count': 2, 'parent': 0, 'meta': {'links': {'self': 'https://public-api.wordpress.com/rest/v1.1/sites/167697861/categories/slug:python', 'help': 'https://public-api.wordpress.com/rest/v1.2/sites/167697861/categories/slug:python/help', 'site': 'https://public-api.wordpress.com/rest/v1.2/sites/167697861'}}}}, 'post_tag': {'python': {'ID': 352048819, 'name': 'python', 'slug': 'python', 'description': '', 'post_count': 3, 'meta': {'links': {'self': 'https://public-api.wordpress.com/rest/v1.1/sites/167697861/tags/slug:python', 'help': 'https://public-api.wordpress.com/rest/v1.2/sites/167697861/tags/slug:python/help', 'site': 'https://public-api.wordpress.com/rest/v1.2/sites/167697861'}}}, 'wordpress': {'ID': 352048918, 'name': 'wordpress', 'slug': 'wordpress', 'description': '', 'post_count': 1, 'meta': {'links': {'self': 'https://public-api.wordpress.com/rest/v1.1/sites/167697861/tags/slug:wordpress', 'help': 'https://public-api.wordpress.com/rest/v1.2/sites/167697861/tags/slug:wordpress/help', 'site': 'https://public-api.wordpress.com/rest/v1.2/sites/167697861'}}}}, 'post_format': {}}, 'tags': {'python': {'ID': 352048819, 'name': 'python', 'slug': 'python', 'description': '', 'post_count': 3, 'meta': {'links': {'self': 'https://public-api.wordpress.com/rest/v1.1/sites/167697861/tags/slug:python', 'help': 'https://public-api.wordpress.com/rest/v1.2/sites/167697861/tags/slug:python/help', 'site': 'https://public-api.wordpress.com/rest/v1.2/sites/167697861'}}}, 'wordpress': {'ID': 352048918, 'name': 'wordpress', 'slug': 'wordpress', 'description': '', 'post_count': 1, 'meta': {'links': {'self': 'https://public-api.wordpress.com/rest/v1.1/sites/167697861/tags/slug:wordpress', 'help': 'https://public-api.wordpress.com/rest/v1.2/sites/167697861/tags/slug:wordpress/help', 'site': 'https://public-api.wordpress.com/rest/v1.2/sites/167697861'}}}}, 'categories': {'Python': {'ID': 352048818, 'name': 'Python', 'slug': 'python', 'description': 'All about Python.', 'post_count': 2, 'meta': {'links': {'self': 'https://public-api.wordpress.com/rest/v1.1/sites/167697861/categories/slug:python', 'help': 'https://public-api.wordpress.com/rest/v1.2/sites/167697861/categories/slug:python/help', 'site': 'https://public-api.wordpress.com/rest/v1.2/sites/167697861'}}, 'parent': 0}}, 'attachments': {}, 'attachment_count': 0, 'metadata': [{'id': '3038', 'key': '_wpas_done_all', 'value': '1'}], 'meta': {'links': {'self': 'https://public-api.wordpress.com/rest/v1.1/sites/167697861/posts/1109', 'help': 'https://public-api.wordpress.com/rest/v1.2/sites/167697861/posts/1109/help', 'site': 'https://public-api.wordpress.com/rest/v1.2/sites/167697861', 'replies': 'https://public-api.wordpress.com/rest/v1.1/sites/167697861/posts/1109/replies/', 'likes': 'https://public-api.wordpress.com/rest/v1.2/sites/167697861/posts/1109/likes/'}}, 'capabilities': {'publish_post': True, 'delete_post': True, 'edit_post': True}, 'other_URLs': {}}\n"
     ]
    }
   ],
   "source": [
    "# Create new post\n",
    "\n",
    "url = f'{WORDPRESS_URL}rest/v1.2/sites/{Wordpress.SITE_ID}/posts/new'\n",
    "\n",
    "header = {\n",
    "    'Authorization': f'Bearer {ACCESS_TOKEN}'\n",
    "}\n",
    "\n",
    "data = {\n",
    "    'title' : \"Hello From python HTML tutorial latest 2\",\n",
    "    'content' : f'{content_html}',\n",
    "    'tags' : 'python, wordpress',\n",
    "    'categories' : 'Python'\n",
    "}\n",
    "\n",
    "response = requests.post(url=url, headers=header, json=data)\n",
    "response_json = response.json()\n",
    "\n",
    "print(response_json)"
   ]
  }
 ],
 "metadata": {
  "interpreter": {
   "hash": "dbb473b6734f6ff61f49272fe0a5ccdf58cedc1b97d39a5410f65150485be57d"
  },
  "kernelspec": {
   "display_name": "Python 3.9.10 ('.venv': venv)",
   "language": "python",
   "name": "python3"
  },
  "language_info": {
   "codemirror_mode": {
    "name": "ipython",
    "version": 3
   },
   "file_extension": ".py",
   "mimetype": "text/x-python",
   "name": "python",
   "nbconvert_exporter": "python",
   "pygments_lexer": "ipython3",
   "version": "3.9.10"
  },
  "orig_nbformat": 4
 },
 "nbformat": 4,
 "nbformat_minor": 2
}
