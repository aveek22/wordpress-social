{
 "cells": [
  {
   "cell_type": "code",
   "execution_count": null,
   "metadata": {},
   "outputs": [],
   "source": [
    "import requests\n",
    "import json\n",
    "from config import Config"
   ]
  },
  {
   "cell_type": "code",
   "execution_count": null,
   "metadata": {},
   "outputs": [],
   "source": [
    "# Create URL for login dialog.\n",
    "\n",
    "app_id = Config.APP_ID\n",
    "# redirect_uri = \"https://datacloudmag.com/callback/auth/facebook/\"\n",
    "redirect_uri = \"https://8lcss1lp47.execute-api.eu-west-1.amazonaws.com/dev/callback/auth/facebook\"\n",
    "# state_param = \"sent_from_python\"\n",
    "state_param = {\n",
    "    'type'  : 'redirect',\n",
    "    'app'   : 'facebook'\n",
    "}\n",
    "\n",
    "url = f\"https://www.facebook.com/v13.0/dialog/oauth?client_id={app_id}&redirect_uri={redirect_uri}&state={json.dumps(state_param)}\"\n",
    "print(url)"
   ]
  },
  {
   "cell_type": "code",
   "execution_count": null,
   "metadata": {},
   "outputs": [],
   "source": [
    "# Exchange code obtained in previous step\n",
    "# for Access Token\n",
    "\n",
    "access_token_url = \"https://graph.facebook.com/v13.0/oauth/access_token\"\n",
    "params = {\n",
    "    'client_id' : Config.APP_ID,\n",
    "    'client_secret' : Config.APP_SECRET,\n",
    "    'redirect_uri' : redirect_uri,\n",
    "    'code' : Config.REDIRECT_CODE\n",
    "}\n",
    "\n",
    "response = requests.get(url=access_token_url, params=params)\n",
    "response.json()"
   ]
  },
  {
   "cell_type": "code",
   "execution_count": null,
   "metadata": {},
   "outputs": [],
   "source": [
    "# Need to verify the Access Token obtained in previous step.\n",
    "# For that we need to have app_access_token.\n",
    "\n",
    "app_access_token_url = \"https://graph.facebook.com/v13.0/oauth/access_token\"\n",
    "params = {\n",
    "    'client_id' : Config.APP_ID,\n",
    "    'client_secret' : Config.APP_SECRET,\n",
    "    'grant_type' : 'client_credentials'\n",
    "}\n",
    "\n",
    "response = requests.get(url=app_access_token_url, params=params)\n",
    "response.json()"
   ]
  },
  {
   "cell_type": "code",
   "execution_count": null,
   "metadata": {},
   "outputs": [],
   "source": [
    "# Inspect Access Token\n",
    "\n",
    "inspect_access_token_url = \"https://graph.facebook.com/debug_token\"\n",
    "params = {\n",
    "    'input_token' : Config.UserAccessToken.Token,\n",
    "    'access_token' : Config.APP_ACCESS_TOKEN\n",
    "}\n",
    "\n",
    "response = requests.get(url=inspect_access_token_url, params=params)\n",
    "response.json()"
   ]
  },
  {
   "cell_type": "code",
   "execution_count": null,
   "metadata": {},
   "outputs": [],
   "source": [
    "# Refresh Access Token\n",
    "# Access tokens can be refreshed without the user reqiured to go\n",
    "# through the entire login dialog flow.\n",
    "\n",
    "app_access_token_url = \"https://graph.facebook.com/v13.0/oauth/access_token\"\n",
    "params = {\n",
    "    'client_id'         : Config.APP_ID,\n",
    "    'client_secret'     : Config.APP_SECRET,\n",
    "    'grant_type'        : 'fb_exchange_token',\n",
    "    'fb_exchange_token' : Config.AccessToken.Token\n",
    "}\n",
    "\n",
    "response = requests.get(url=app_access_token_url, params=params)\n",
    "response.json()"
   ]
  }
 ],
 "metadata": {
  "interpreter": {
   "hash": "dbb473b6734f6ff61f49272fe0a5ccdf58cedc1b97d39a5410f65150485be57d"
  },
  "kernelspec": {
   "display_name": "Python 3.9.10 ('.venv': poetry)",
   "language": "python",
   "name": "python3"
  },
  "language_info": {
   "codemirror_mode": {
    "name": "ipython",
    "version": 3
   },
   "file_extension": ".py",
   "mimetype": "text/x-python",
   "name": "python",
   "nbconvert_exporter": "python",
   "pygments_lexer": "ipython3",
   "version": "3.9.10"
  },
  "orig_nbformat": 4
 },
 "nbformat": 4,
 "nbformat_minor": 2
}
