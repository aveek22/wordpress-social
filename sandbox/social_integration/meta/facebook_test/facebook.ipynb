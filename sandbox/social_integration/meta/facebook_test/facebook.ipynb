{
 "cells": [
  {
   "cell_type": "code",
   "execution_count": 5,
   "metadata": {},
   "outputs": [],
   "source": [
    "import requests\n",
    "import json\n",
    "from config import Config"
   ]
  },
  {
   "cell_type": "code",
   "execution_count": 6,
   "metadata": {},
   "outputs": [
    {
     "name": "stdout",
     "output_type": "stream",
     "text": [
      "https://www.facebook.com/v13.0/dialog/oauth?client_id=677085916917537&redirect_uri=https://8lcss1lp47.execute-api.eu-west-1.amazonaws.com/dev/callback/auth/facebook&state={\"type\": \"redirect\", \"app\": \"facebook\"}\n"
     ]
    }
   ],
   "source": [
    "# Create URL for login dialog.\n",
    "\n",
    "app_id = Config.APP_ID\n",
    "# redirect_uri = \"https://datacloudmag.com/callback/auth/facebook/\"\n",
    "redirect_uri = \"https://8lcss1lp47.execute-api.eu-west-1.amazonaws.com/dev/callback/auth/facebook\"\n",
    "# state_param = \"sent_from_python\"\n",
    "state_param = {\n",
    "    'type'  : 'redirect',\n",
    "    'app'   : 'facebook'\n",
    "}\n",
    "\n",
    "url = f\"https://www.facebook.com/v13.0/dialog/oauth?client_id={app_id}&redirect_uri={redirect_uri}&state={json.dumps(state_param)}\"\n",
    "print(url)"
   ]
  }
 ],
 "metadata": {
  "interpreter": {
   "hash": "dbb473b6734f6ff61f49272fe0a5ccdf58cedc1b97d39a5410f65150485be57d"
  },
  "kernelspec": {
   "display_name": "Python 3.9.10 ('.venv': poetry)",
   "language": "python",
   "name": "python3"
  },
  "language_info": {
   "codemirror_mode": {
    "name": "ipython",
    "version": 3
   },
   "file_extension": ".py",
   "mimetype": "text/x-python",
   "name": "python",
   "nbconvert_exporter": "python",
   "pygments_lexer": "ipython3",
   "version": "3.9.10"
  },
  "orig_nbformat": 4
 },
 "nbformat": 4,
 "nbformat_minor": 2
}
