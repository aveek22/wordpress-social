{
 "cells": [
  {
   "cell_type": "code",
   "execution_count": 1,
   "metadata": {},
   "outputs": [],
   "source": [
    "import requests\n",
    "from config import Instagram"
   ]
  },
  {
   "cell_type": "code",
   "execution_count": 2,
   "metadata": {},
   "outputs": [],
   "source": [
    "# https://levelup.gitconnected.com/automating-instagram-posts-with-python-and-instagram-graph-api-374f084b9f2b\n",
    "\n",
    "# Exchange short lived AccessToken with Long Life Token\n",
    "url = f\"https://graph.facebook.com/v13.0/oauth/access_token\"\n",
    "params = {\n",
    "    'grant_type' : 'fb_exchange_token',\n",
    "    'client_id' : Instagram.APP_ID,\n",
    "    'client_secret' : Instagram.APP_SECRET,\n",
    "    'fb_exchange_token': Instagram.USER_ACCESS_TOKEN\n",
    "}\n",
    "\n",
    "response = requests.post(url, params=params)\n",
    "response_json = response.json()\n",
    "access_token = response_json['access_token']\n"
   ]
  },
  {
   "cell_type": "code",
   "execution_count": null,
   "metadata": {},
   "outputs": [],
   "source": [
    "# curl -i -X POST \\\n",
    "#  \"https://graph.facebook.com/v13.0/17841451612144935/media?image_url=https%3A%2F%2Fi.imgur.com%2FR4zJRaX.jpeg&caption=test%20caption&access_token=SOMEACCESSTOKEN\"\n",
    "\n",
    "\n",
    "# https://developers.facebook.com/docs/facebook-login/access-tokens/refreshing/\n",
    "# https://developers.facebook.com/docs/instagram-api/guides/content-publishing#endpoints"
   ]
  },
  {
   "cell_type": "code",
   "execution_count": 3,
   "metadata": {},
   "outputs": [],
   "source": [
    "image_url = \"https://i.imgur.com/R4zJRaX.jpeg\"\n",
    "url = f\"https://graph.facebook.com/v13.0/{Instagram.BUSINESS_ACCOUNT_ID}/media\"\n",
    "payload = {\n",
    "    'image_url' : image_url,\n",
    "    'caption' : 'this is test 101',\n",
    "    'access_token': f'{access_token}'\n",
    "}\n",
    "\n",
    "response_media = requests.post(url, params=payload)\n",
    "\n",
    "response_media_json = response_media.json()\n",
    "media_id = response_media_json['id']"
   ]
  },
  {
   "cell_type": "code",
   "execution_count": 4,
   "metadata": {},
   "outputs": [
    {
     "name": "stdout",
     "output_type": "stream",
     "text": [
      "{\"id\":\"18187739722166265\"}\n"
     ]
    }
   ],
   "source": [
    "url = \"https://graph.facebook.com/v13.0/17841451612144935/media_publish\"\n",
    "payload = {\n",
    "    'creation_id' : f\"{media_id}\",\n",
    "    'access_token': f'{access_token}'\n",
    "}\n",
    "\n",
    "r = requests.post(url, params=payload)\n",
    "\n",
    "print(r.text)"
   ]
  }
 ],
 "metadata": {
  "interpreter": {
   "hash": "ffa6714cc363eed5c5c4f43a2b357bc19111c2aa92b90320f9300a6fce5d50e8"
  },
  "kernelspec": {
   "display_name": "Python 3.9.10 ('.venv': venv)",
   "language": "python",
   "name": "python3"
  },
  "language_info": {
   "codemirror_mode": {
    "name": "ipython",
    "version": 3
   },
   "file_extension": ".py",
   "mimetype": "text/x-python",
   "name": "python",
   "nbconvert_exporter": "python",
   "pygments_lexer": "ipython3",
   "version": "3.9.10"
  },
  "orig_nbformat": 4
 },
 "nbformat": 4,
 "nbformat_minor": 2
}
