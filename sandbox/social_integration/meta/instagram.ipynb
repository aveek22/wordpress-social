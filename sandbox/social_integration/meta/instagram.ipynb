{
 "cells": [
  {
   "cell_type": "code",
   "execution_count": 6,
   "metadata": {},
   "outputs": [],
   "source": [
    "import requests\n",
    "from config import Instagram"
   ]
  },
  {
   "cell_type": "code",
   "execution_count": 9,
   "metadata": {},
   "outputs": [
    {
     "data": {
      "text/plain": [
       "{'error': {'message': 'Error validating application. Application has been deleted.',\n",
       "  'type': 'OAuthException',\n",
       "  'code': 190,\n",
       "  'fbtrace_id': 'AbB_2G4S08ZttUl8kvbUeQm'}}"
      ]
     },
     "execution_count": 9,
     "metadata": {},
     "output_type": "execute_result"
    }
   ],
   "source": [
    "# https://levelup.gitconnected.com/automating-instagram-posts-with-python-and-instagram-graph-api-374f084b9f2b\n",
    "\n",
    "# Exchange short lived AccessToken with Long Life Token\n",
    "url = f\"https://graph.facebook.com/v13.0/oauth/access_token\"\n",
    "params = {\n",
    "    'grant_type' : 'fb_exchange_token',\n",
    "    'client_id' : Instagram.APP_ID,\n",
    "    'client_secret' : Instagram.APP_SECRET,\n",
    "    'fb_exchange_token': Instagram.ACCESS_TOKEN\n",
    "}\n",
    "\n",
    "r = requests.post(url, params=params)\n",
    "r.json()"
   ]
  },
  {
   "cell_type": "code",
   "execution_count": 7,
   "metadata": {},
   "outputs": [
    {
     "name": "stdout",
     "output_type": "stream",
     "text": [
      "17841451612144935\n",
      "EAASvftLc53QBAMOFtYTZClOJaj5YT4z6udUZCfbIO61pCQMBGAbNjAdwlbx2ch9fBB2scOOmhZAfbiEHDZBI1yVtw3PEb3kMUdyZBJv1wuyhSnNPD3GBukTft32f4R4nKxGyGCyUk8hUMMS9rZAWI4KKq2zsxCuspSnfOCcvrajfTT8xXIwB0vDxHlZBqZCMQpPAzP7LAZCfRvJyYIeUoc6xc7bmclILMtVUZD\n"
     ]
    }
   ],
   "source": [
    "business_ig_id = Instagram.BUSINESS_ACCOUNT_ID\n",
    "access_token = Instagram.ACCESS_TOKEN\n",
    "\n",
    "print(business_ig_id)\n",
    "print(access_token)\n",
    "\n",
    "image_url = \"https://i.imgur.com/R4zJRaX.jpeg\""
   ]
  },
  {
   "cell_type": "code",
   "execution_count": null,
   "metadata": {},
   "outputs": [],
   "source": [
    "# curl -i -X POST \\\n",
    "#  \"https://graph.facebook.com/v13.0/17841451612144935/media?image_url=https%3A%2F%2Fi.imgur.com%2FR4zJRaX.jpeg&caption=test%20caption&access_token=SOMEACCESSTOKEN\"\n",
    "\n",
    "\n",
    "# https://developers.facebook.com/docs/facebook-login/access-tokens/refreshing/\n",
    "# https://developers.facebook.com/docs/instagram-api/guides/content-publishing#endpoints"
   ]
  },
  {
   "cell_type": "code",
   "execution_count": 8,
   "metadata": {},
   "outputs": [
    {
     "name": "stdout",
     "output_type": "stream",
     "text": [
      "{\"error\":{\"message\":\"Error validating application. Application has been deleted.\",\"type\":\"OAuthException\",\"code\":190,\"fbtrace_id\":\"ASzOZKYXM38Qxt2VpEWKtIU\"}}\n"
     ]
    }
   ],
   "source": [
    "url = f\"https://graph.facebook.com/v13.0/{business_ig_id}/media\"\n",
    "payload = {\n",
    "    'image_url' : image_url,\n",
    "    'caption' : 'this is test 21',\n",
    "    'access_token': f'{access_token}'\n",
    "}\n",
    "\n",
    "r = requests.post(url, params=payload)\n",
    "\n",
    "print(r.text)"
   ]
  },
  {
   "cell_type": "code",
   "execution_count": null,
   "metadata": {},
   "outputs": [],
   "source": [
    "url = \"https://graph.facebook.com/v13.0/17841451612144935/media_publish\"\n",
    "payload = {\n",
    "    'creation_id' : \"18150544846218772\",\n",
    "    'access_token': 'SOME_ACCESS_TOKEN'\n",
    "}\n",
    "\n",
    "r = requests.post(url, params=payload)\n",
    "\n",
    "print(r.text)"
   ]
  }
 ],
 "metadata": {
  "interpreter": {
   "hash": "ffa6714cc363eed5c5c4f43a2b357bc19111c2aa92b90320f9300a6fce5d50e8"
  },
  "kernelspec": {
   "display_name": "Python 3.9.10 ('.venv': venv)",
   "language": "python",
   "name": "python3"
  },
  "language_info": {
   "codemirror_mode": {
    "name": "ipython",
    "version": 3
   },
   "file_extension": ".py",
   "mimetype": "text/x-python",
   "name": "python",
   "nbconvert_exporter": "python",
   "pygments_lexer": "ipython3",
   "version": "3.9.10"
  },
  "orig_nbformat": 4
 },
 "nbformat": 4,
 "nbformat_minor": 2
}
