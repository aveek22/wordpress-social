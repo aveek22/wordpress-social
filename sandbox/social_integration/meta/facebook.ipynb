{
 "cells": [
  {
   "cell_type": "code",
   "execution_count": null,
   "metadata": {},
   "outputs": [],
   "source": [
    "import requests\n",
    "from config import Facebook"
   ]
  },
  {
   "cell_type": "code",
   "execution_count": null,
   "metadata": {},
   "outputs": [],
   "source": [
    "page_id         = Facebook.PAGE_ID\n",
    "access_token    = Facebook.PAGE_ACCESS_TOKEN\n",
    "user_id         = Facebook.USER_ID"
   ]
  },
  {
   "cell_type": "code",
   "execution_count": null,
   "metadata": {},
   "outputs": [],
   "source": [
    "text        = f\"Solving the Gilded Rose Refactoring Kata by @[{user_id}]. 123\"\n",
    "url         = \"https://datacloudmag.com/solving-the-gilded-rose-refactoring-kata/\"\n",
    "hashtags    = \"#python #refactoring\""
   ]
  },
  {
   "cell_type": "code",
   "execution_count": null,
   "metadata": {},
   "outputs": [],
   "source": [
    "post_content = f\"{text} \\n\\n{hashtags}\"\n",
    "post_url = f\"https://graph.facebook.com/v13.0/{page_id}/feed\""
   ]
  },
  {
   "cell_type": "code",
   "execution_count": null,
   "metadata": {},
   "outputs": [],
   "source": [
    "payload = {\n",
    "    'message': post_content,\n",
    "    'access_token': access_token,\n",
    "    'link': url\n",
    "}\n",
    "r = requests.post(post_url, params=payload)\n",
    "r.json()"
   ]
  }
 ],
 "metadata": {
  "language_info": {
   "name": "python"
  },
  "orig_nbformat": 4
 },
 "nbformat": 4,
 "nbformat_minor": 2
}
