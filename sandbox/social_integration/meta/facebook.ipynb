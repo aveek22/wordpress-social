{
 "cells": [
  {
   "cell_type": "code",
   "execution_count": 1,
   "metadata": {},
   "outputs": [],
   "source": [
    "import requests\n",
    "from config import Facebook"
   ]
  },
  {
   "cell_type": "code",
   "execution_count": 2,
   "metadata": {},
   "outputs": [],
   "source": [
    "page_id         = Facebook.PAGE_ID\n",
    "access_token    = Facebook.PAGE_ACCESS_TOKEN\n",
    "user_id         = Facebook.USER_ID"
   ]
  },
  {
   "cell_type": "code",
   "execution_count": 3,
   "metadata": {},
   "outputs": [],
   "source": [
    "text        = f\"Solving the Gilded Rose Refactoring Kata by @[{user_id}]. 123\"\n",
    "url         = \"https://datacloudmag.com/solving-the-gilded-rose-refactoring-kata/\"\n",
    "hashtags    = \"#python #refactoring\""
   ]
  },
  {
   "cell_type": "code",
   "execution_count": 4,
   "metadata": {},
   "outputs": [],
   "source": [
    "post_content = f\"{text} \\n\\n{hashtags}\"\n",
    "post_url = f\"https://graph.facebook.com/v13.0/{page_id}/feed\""
   ]
  },
  {
   "cell_type": "code",
   "execution_count": 6,
   "metadata": {},
   "outputs": [
    {
     "data": {
      "text/plain": [
       "{'id': '117513500859231_132138116063436'}"
      ]
     },
     "execution_count": 6,
     "metadata": {},
     "output_type": "execute_result"
    }
   ],
   "source": [
    "payload = {\n",
    "    'message': post_content,\n",
    "    'access_token': access_token,\n",
    "    'link': url\n",
    "}\n",
    "r = requests.post(post_url, params=payload)\n",
    "r.json()"
   ]
  }
 ],
 "metadata": {
  "interpreter": {
   "hash": "dbb473b6734f6ff61f49272fe0a5ccdf58cedc1b97d39a5410f65150485be57d"
  },
  "kernelspec": {
   "display_name": "Python 3.9.10 ('.venv': poetry)",
   "language": "python",
   "name": "python3"
  },
  "language_info": {
   "codemirror_mode": {
    "name": "ipython",
    "version": 3
   },
   "file_extension": ".py",
   "mimetype": "text/x-python",
   "name": "python",
   "nbconvert_exporter": "python",
   "pygments_lexer": "ipython3",
   "version": "3.9.10"
  },
  "orig_nbformat": 4
 },
 "nbformat": 4,
 "nbformat_minor": 2
}
