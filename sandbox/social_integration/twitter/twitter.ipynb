{
 "cells": [
  {
   "cell_type": "code",
   "execution_count": 1,
   "metadata": {},
   "outputs": [],
   "source": [
    "import tweepy\n",
    "from config import Twitter"
   ]
  },
  {
   "cell_type": "code",
   "execution_count": 2,
   "metadata": {},
   "outputs": [],
   "source": [
    "consumer_key        = Twitter.CONSUMER_KEY\n",
    "consumer_key_secret = Twitter.CONSUMER_KEY_SECRET\n",
    "access_token        = Twitter.ACCESS_TOKEN\n",
    "access_token_secret = Twitter.ACCESS_TOKEN_SECRET"
   ]
  },
  {
   "cell_type": "code",
   "execution_count": 3,
   "metadata": {},
   "outputs": [],
   "source": [
    "auth = tweepy.OAuthHandler(consumer_key, consumer_key_secret)\n",
    "auth.set_access_token(access_token, access_token_secret)\n",
    "\n",
    "api = tweepy.API(auth)"
   ]
  },
  {
   "cell_type": "code",
   "execution_count": 7,
   "metadata": {},
   "outputs": [],
   "source": [
    "# This app creates a tweet in DataCloudMag twitter account.\n",
    "\n",
    "text = \"Solving the Gilded Rose Refactoring Kata by @avikoleum.\"\n",
    "url = \"https://datacloudmag.com/solving-the-gilded-rose-refactoring-kata/\"\n",
    "hashtags = \"#python #refactoring\"\n",
    "\n",
    "\n",
    "tweet = f\"{text} \\n\\n{hashtags} \\n\\n{url}\""
   ]
  },
  {
   "cell_type": "code",
   "execution_count": 5,
   "metadata": {},
   "outputs": [
    {
     "name": "stdout",
     "output_type": "stream",
     "text": [
      "Response ID: 1504046212806234112\n",
      "    Response Text: Solving the Gilded Rose Refactoring Kata by @avikoleum. \n",
      "\n",
      "#python #refactoring \n",
      "\n",
      "https://t.co/k6mKzqybS8 \n",
      "    Created At2022-03-16 10:45:35+00:00\n"
     ]
    }
   ],
   "source": [
    "# Create the tweet\n",
    "response = api.update_status(tweet)\n",
    "\n",
    "print(\n",
    "    f\"\"\"Response ID: {response.id}\n",
    "    Response Text: {response.text} \n",
    "    Created At{str(response.created_at)}\"\"\"\n",
    ")"
   ]
  },
  {
   "cell_type": "code",
   "execution_count": 4,
   "metadata": {},
   "outputs": [],
   "source": [
    "client = tweepy.Client(\n",
    "    consumer_key        = Twitter.CONSUMER_KEY,\n",
    "    consumer_secret     = Twitter.CONSUMER_KEY_SECRET,\n",
    "    access_token        = Twitter.ACCESS_TOKEN,\n",
    "    access_token_secret = Twitter.ACCESS_TOKEN_SECRET\n",
    ")"
   ]
  },
  {
   "cell_type": "code",
   "execution_count": 8,
   "metadata": {},
   "outputs": [],
   "source": [
    "response = client.create_tweet(\n",
    "    text=tweet\n",
    ")"
   ]
  },
  {
   "cell_type": "code",
   "execution_count": 12,
   "metadata": {},
   "outputs": [
    {
     "data": {
      "text/plain": [
       "Response(data={'id': '1504805160463257600', 'text': 'Solving the Gilded Rose Refactoring Kata by @avikoleum. \\n\\n#python #refactoring \\n\\nhttps://t.co/k6mKzqybS8'}, includes={}, errors=[], meta={})"
      ]
     },
     "execution_count": 12,
     "metadata": {},
     "output_type": "execute_result"
    }
   ],
   "source": [
    "response"
   ]
  },
  {
   "cell_type": "code",
   "execution_count": null,
   "metadata": {},
   "outputs": [],
   "source": []
  }
 ],
 "metadata": {
  "interpreter": {
   "hash": "dbb473b6734f6ff61f49272fe0a5ccdf58cedc1b97d39a5410f65150485be57d"
  },
  "kernelspec": {
   "display_name": "Python 3.9.10 ('.venv': venv)",
   "language": "python",
   "name": "python3"
  },
  "language_info": {
   "codemirror_mode": {
    "name": "ipython",
    "version": 3
   },
   "file_extension": ".py",
   "mimetype": "text/x-python",
   "name": "python",
   "nbconvert_exporter": "python",
   "pygments_lexer": "ipython3",
   "version": "3.9.10"
  },
  "orig_nbformat": 4
 },
 "nbformat": 4,
 "nbformat_minor": 2
}
