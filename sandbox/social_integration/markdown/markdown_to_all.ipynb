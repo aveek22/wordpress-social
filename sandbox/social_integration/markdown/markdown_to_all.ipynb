{
 "cells": [
  {
   "cell_type": "markdown",
   "metadata": {},
   "source": [
    "1. Read content from Markdown file\n",
    "1. Post content to blogs\n",
    "    * Wordpress\n",
    "    * Dev.to\n",
    "    * Hashnode\n",
    "    * Medium"
   ]
  },
  {
   "cell_type": "code",
   "execution_count": null,
   "metadata": {},
   "outputs": [],
   "source": [
    "import requests\n",
    "import markdown as md\n",
    "from config import Wordpress, DevTo"
   ]
  },
  {
   "cell_type": "code",
   "execution_count": null,
   "metadata": {},
   "outputs": [],
   "source": [
    "with open('notion_input.md', 'r') as f:\n",
    "    content_md = f.read()"
   ]
  },
  {
   "cell_type": "code",
   "execution_count": null,
   "metadata": {},
   "outputs": [],
   "source": [
    "# https://www.devdungeon.com/content/convert-markdown-html-python\n",
    "\n",
    "md.markdownFromFile(\n",
    "    input='notion_input.md',\n",
    "    output='notion_python_output.html',\n",
    "    encoding='utf8',\n",
    "    extensions=['fenced_code']\n",
    ")\n",
    "\n",
    "with open('notion_python_output.html', 'r') as f:\n",
    "    content_html = f.read()"
   ]
  },
  {
   "cell_type": "code",
   "execution_count": null,
   "metadata": {},
   "outputs": [],
   "source": [
    "WORDPRESS_URL = 'https://public-api.wordpress.com/'\n",
    "AUTH_TOKEN_URL = f'{WORDPRESS_URL}oauth2/token'"
   ]
  },
  {
   "cell_type": "code",
   "execution_count": null,
   "metadata": {},
   "outputs": [],
   "source": [
    "auth_message_body = {\n",
    "    'client_id': Wordpress.CLIENT_ID,\n",
    "    'client_secret': Wordpress.CLIENT_SECRET,\n",
    "    'grant_type': Wordpress.GRANT_TYPE,\n",
    "    'username': Wordpress.USERNAME,\n",
    "    'password': Wordpress.APP_PASSWORD\n",
    "}\n",
    "\n",
    "response = requests.post(AUTH_TOKEN_URL, data=auth_message_body)\n",
    "response_json = response.json()\n",
    "\n",
    "ACCESS_TOKEN = response_json['access_token']"
   ]
  },
  {
   "cell_type": "code",
   "execution_count": null,
   "metadata": {},
   "outputs": [],
   "source": [
    "# Create new post in Wordpress\n",
    "\n",
    "url = f'{WORDPRESS_URL}rest/v1.2/sites/{Wordpress.SITE_ID}/posts/new'\n",
    "\n",
    "header = {\n",
    "    'Authorization': f'Bearer {ACCESS_TOKEN}'\n",
    "}\n",
    "\n",
    "data = {\n",
    "    'title' : \"An introduction to the LinkedIn Developer's portal\",\n",
    "    'content' : f'{content_html}',\n",
    "    'excerpt' : \"Learn how to interact with LinkedIn Developer's portal.\",\n",
    "    'status' : \"draft\",\n",
    "    'tags' : 'python, wordpress',\n",
    "    'categories' : 'Python'\n",
    "}\n",
    "\n",
    "response = requests.post(url=url, headers=header, json=data)\n",
    "response_json = response.json()\n",
    "\n",
    "print(response_json)"
   ]
  }
 ],
 "metadata": {
  "interpreter": {
   "hash": "dbb473b6734f6ff61f49272fe0a5ccdf58cedc1b97d39a5410f65150485be57d"
  },
  "kernelspec": {
   "display_name": "Python 3.9.10 ('.venv': venv)",
   "language": "python",
   "name": "python3"
  },
  "language_info": {
   "codemirror_mode": {
    "name": "ipython",
    "version": 3
   },
   "file_extension": ".py",
   "mimetype": "text/x-python",
   "name": "python",
   "nbconvert_exporter": "python",
   "pygments_lexer": "ipython3",
   "version": "3.9.10"
  },
  "orig_nbformat": 4
 },
 "nbformat": 4,
 "nbformat_minor": 2
}
