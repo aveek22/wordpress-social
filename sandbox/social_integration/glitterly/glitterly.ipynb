{
 "cells": [
  {
   "cell_type": "code",
   "execution_count": 1,
   "metadata": {},
   "outputs": [],
   "source": [
    "import requests\n",
    "from config import Glitterly"
   ]
  },
  {
   "cell_type": "code",
   "execution_count": 9,
   "metadata": {},
   "outputs": [],
   "source": [
    "IMAGE_URL = f\"https://www.glitterlyapi.com/image\"\n",
    "template_id = \"34a20-36ad-e1ca-67fa-554fb44c826\"\n",
    "background_image_url = \"https://images.unsplash.com/photo-1555066931-4365d14bab8c\"\n",
    "blog_title = \"Building Your Ideal Modern Data Stack\""
   ]
  },
  {
   "cell_type": "code",
   "execution_count": 11,
   "metadata": {},
   "outputs": [],
   "source": [
    "headers = {\n",
    "    \"x-api-key\" : Glitterly.API_KEY\n",
    "}\n",
    "\n",
    "payload = {\n",
    "  \"template_id\": f\"{template_id}\",\n",
    "  \"size_name\": \"Wide\",\n",
    "  \"changes\": [\n",
    "    {\n",
    "      \"layer\": \"background\",\n",
    "      \"url\": f\"{background_image_url}\",\n",
    "      \"border_color\": \"#ed1f1f\"\n",
    "    },\n",
    "    {\n",
    "      \"layer\": \"outline_0\",\n",
    "      \"background\": \"transparent\",\n",
    "      \"border_color\": \"#ff674f\"\n",
    "    },\n",
    "    {\n",
    "      \"layer\": \"Title\",\n",
    "      \"text\": f\"{blog_title}\",\n",
    "      \"font_color\": \"#e7c31b\",\n",
    "      \"background\": \"\"\n",
    "    },\n",
    "    {\n",
    "      \"layer\": \"Name\",\n",
    "      \"text\": \"Aveek Das\",\n",
    "      \"font_color\": \"#bdbbbb\",\n",
    "      \"background\": \"\"\n",
    "    },\n",
    "    {\n",
    "      \"layer\": \"Profile image\",\n",
    "      \"url\": \"https://avatars.githubusercontent.com/u/5299296\"\n",
    "    }\n",
    "  ]\n",
    "}"
   ]
  },
  {
   "cell_type": "code",
   "execution_count": 12,
   "metadata": {},
   "outputs": [
    {
     "data": {
      "text/plain": [
       "{'user_id': 'RzSYnJsZKwT9qSctFeAwzEWBaP82',\n",
       " 'id': 'bd9b07f2-eb78-4bbd-825c-c0911c4caeb7',\n",
       " 'created_at': 1648219448137,\n",
       " 'self': 'https://www.glitterlyapi.com/asset/bd9b07f2-eb78-4bbd-825c-c0911c4caeb7',\n",
       " 'created_from_template': '34a20-36ad-e1ca-67fa-554fb44c826',\n",
       " 'url': 'https://glitterlycdn.com/Wide_1648219447648.jpeg'}"
      ]
     },
     "execution_count": 12,
     "metadata": {},
     "output_type": "execute_result"
    }
   ],
   "source": [
    "response = requests.post(url=IMAGE_URL, headers=headers, json=payload)\n",
    "response.json()"
   ]
  }
 ],
 "metadata": {
  "interpreter": {
   "hash": "dbb473b6734f6ff61f49272fe0a5ccdf58cedc1b97d39a5410f65150485be57d"
  },
  "kernelspec": {
   "display_name": "Python 3.9.10 ('.venv': poetry)",
   "language": "python",
   "name": "python3"
  },
  "language_info": {
   "codemirror_mode": {
    "name": "ipython",
    "version": 3
   },
   "file_extension": ".py",
   "mimetype": "text/x-python",
   "name": "python",
   "nbconvert_exporter": "python",
   "pygments_lexer": "ipython3",
   "version": "3.9.10"
  },
  "orig_nbformat": 4
 },
 "nbformat": 4,
 "nbformat_minor": 2
}
