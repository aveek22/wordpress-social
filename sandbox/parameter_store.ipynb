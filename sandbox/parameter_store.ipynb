{
 "cells": [
  {
   "cell_type": "code",
   "execution_count": 20,
   "metadata": {},
   "outputs": [],
   "source": [
    "import boto3"
   ]
  },
  {
   "cell_type": "code",
   "execution_count": 21,
   "metadata": {},
   "outputs": [
    {
     "data": {
      "text/plain": [
       "{'Parameter': {'Name': '/social_integration/parent/child_1',\n",
       "  'Type': 'String',\n",
       "  'Value': 'child_1',\n",
       "  'Version': 1,\n",
       "  'LastModifiedDate': datetime.datetime(2022, 4, 15, 13, 55, 24, 495000, tzinfo=tzlocal()),\n",
       "  'ARN': 'arn:aws:ssm:eu-west-1:488459447301:parameter/social_integration/parent/child_1',\n",
       "  'DataType': 'text'},\n",
       " 'ResponseMetadata': {'RequestId': '2981889c-76cc-434b-ac84-b96c3872e75d',\n",
       "  'HTTPStatusCode': 200,\n",
       "  'HTTPHeaders': {'server': 'Server',\n",
       "   'date': 'Fri, 15 Apr 2022 12:05:23 GMT',\n",
       "   'content-type': 'application/x-amz-json-1.1',\n",
       "   'content-length': '246',\n",
       "   'connection': 'keep-alive',\n",
       "   'x-amzn-requestid': '2981889c-76cc-434b-ac84-b96c3872e75d'},\n",
       "  'RetryAttempts': 0}}"
      ]
     },
     "execution_count": 21,
     "metadata": {},
     "output_type": "execute_result"
    }
   ],
   "source": [
    "client = boto3.client('ssm')\n",
    "response = client.get_parameter(\n",
    "                Name = \"/social_integration/parent/child_1\",\n",
    "                WithDecryption = False\n",
    "            )\n",
    "response\n",
    "# response['Parameter']['Value']"
   ]
  },
  {
   "cell_type": "code",
   "execution_count": 22,
   "metadata": {},
   "outputs": [
    {
     "data": {
      "text/plain": [
       "{'Parameters': [{'Name': '/social_integration/parent/child_1',\n",
       "   'Type': 'String',\n",
       "   'Value': 'child_1',\n",
       "   'Version': 1,\n",
       "   'LastModifiedDate': datetime.datetime(2022, 4, 15, 13, 55, 24, 495000, tzinfo=tzlocal()),\n",
       "   'ARN': 'arn:aws:ssm:eu-west-1:488459447301:parameter/social_integration/parent/child_1',\n",
       "   'DataType': 'text'},\n",
       "  {'Name': '/social_integration/parent/child_2',\n",
       "   'Type': 'String',\n",
       "   'Value': 'child_2',\n",
       "   'Version': 1,\n",
       "   'LastModifiedDate': datetime.datetime(2022, 4, 15, 13, 55, 53, 309000, tzinfo=tzlocal()),\n",
       "   'ARN': 'arn:aws:ssm:eu-west-1:488459447301:parameter/social_integration/parent/child_2',\n",
       "   'DataType': 'text'}],\n",
       " 'ResponseMetadata': {'RequestId': 'e48be545-8ca0-4c39-8e32-efa9c7ae7975',\n",
       "  'HTTPStatusCode': 200,\n",
       "  'HTTPHeaders': {'server': 'Server',\n",
       "   'date': 'Fri, 15 Apr 2022 12:05:26 GMT',\n",
       "   'content-type': 'application/x-amz-json-1.1',\n",
       "   'content-length': '482',\n",
       "   'connection': 'keep-alive',\n",
       "   'x-amzn-requestid': 'e48be545-8ca0-4c39-8e32-efa9c7ae7975'},\n",
       "  'RetryAttempts': 0}}"
      ]
     },
     "execution_count": 22,
     "metadata": {},
     "output_type": "execute_result"
    }
   ],
   "source": [
    "client = boto3.client('ssm')\n",
    "response = client.get_parameters_by_path(\n",
    "                Path = \"/social_integration/parent/\",\n",
    "                WithDecryption = False\n",
    "            )\n",
    "response\n",
    "# response['Parameter']['Value']"
   ]
  }
 ],
 "metadata": {
  "interpreter": {
   "hash": "dbb473b6734f6ff61f49272fe0a5ccdf58cedc1b97d39a5410f65150485be57d"
  },
  "kernelspec": {
   "display_name": "Python 3.9.10 ('.venv': poetry)",
   "language": "python",
   "name": "python3"
  },
  "language_info": {
   "codemirror_mode": {
    "name": "ipython",
    "version": 3
   },
   "file_extension": ".py",
   "mimetype": "text/x-python",
   "name": "python",
   "nbconvert_exporter": "python",
   "pygments_lexer": "ipython3",
   "version": "3.9.10"
  },
  "orig_nbformat": 4
 },
 "nbformat": 4,
 "nbformat_minor": 2
}
