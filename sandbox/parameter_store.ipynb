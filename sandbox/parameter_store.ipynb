{
 "cells": [
  {
   "cell_type": "code",
   "execution_count": 1,
   "metadata": {},
   "outputs": [],
   "source": [
    "import boto3"
   ]
  },
  {
   "cell_type": "code",
   "execution_count": 21,
   "metadata": {},
   "outputs": [
    {
     "data": {
      "text/plain": [
       "{'Parameter': {'Name': '/social_integration/parent/child_1',\n",
       "  'Type': 'String',\n",
       "  'Value': 'child_1',\n",
       "  'Version': 1,\n",
       "  'LastModifiedDate': datetime.datetime(2022, 4, 15, 13, 55, 24, 495000, tzinfo=tzlocal()),\n",
       "  'ARN': 'arn:aws:ssm:eu-west-1:488459447301:parameter/social_integration/parent/child_1',\n",
       "  'DataType': 'text'},\n",
       " 'ResponseMetadata': {'RequestId': '2981889c-76cc-434b-ac84-b96c3872e75d',\n",
       "  'HTTPStatusCode': 200,\n",
       "  'HTTPHeaders': {'server': 'Server',\n",
       "   'date': 'Fri, 15 Apr 2022 12:05:23 GMT',\n",
       "   'content-type': 'application/x-amz-json-1.1',\n",
       "   'content-length': '246',\n",
       "   'connection': 'keep-alive',\n",
       "   'x-amzn-requestid': '2981889c-76cc-434b-ac84-b96c3872e75d'},\n",
       "  'RetryAttempts': 0}}"
      ]
     },
     "execution_count": 21,
     "metadata": {},
     "output_type": "execute_result"
    }
   ],
   "source": [
    "session = boto3.Session(profile_name = \"aveek2021\")\n",
    "client = session.client('ssm')\n",
    "response = client.get_parameter(\n",
    "                Name = \"/social_integration/parent/child_1\",\n",
    "                WithDecryption = False\n",
    "            )\n",
    "response\n",
    "# response['Parameter']['Value']"
   ]
  },
  {
   "cell_type": "code",
   "execution_count": 4,
   "metadata": {},
   "outputs": [
    {
     "data": {
      "text/plain": [
       "[{'Name': '/social_integration/instagram/app_id',\n",
       "  'Type': 'String',\n",
       "  'Value': '420683153164815',\n",
       "  'Version': 1,\n",
       "  'LastModifiedDate': datetime.datetime(2022, 4, 15, 14, 19, 39, 861000, tzinfo=tzlocal()),\n",
       "  'ARN': 'arn:aws:ssm:eu-west-1:488459447301:parameter/social_integration/instagram/app_id',\n",
       "  'DataType': 'text'},\n",
       " {'Name': '/social_integration/instagram/app_secret',\n",
       "  'Type': 'String',\n",
       "  'Value': 'aedb53963ae446e070c3435befe2c8f0',\n",
       "  'Version': 1,\n",
       "  'LastModifiedDate': datetime.datetime(2022, 4, 15, 14, 19, 39, 869000, tzinfo=tzlocal()),\n",
       "  'ARN': 'arn:aws:ssm:eu-west-1:488459447301:parameter/social_integration/instagram/app_secret',\n",
       "  'DataType': 'text'},\n",
       " {'Name': '/social_integration/instagram/business_account_id',\n",
       "  'Type': 'String',\n",
       "  'Value': '17841451612144935',\n",
       "  'Version': 1,\n",
       "  'LastModifiedDate': datetime.datetime(2022, 4, 15, 14, 19, 39, 864000, tzinfo=tzlocal()),\n",
       "  'ARN': 'arn:aws:ssm:eu-west-1:488459447301:parameter/social_integration/instagram/business_account_id',\n",
       "  'DataType': 'text'}]"
      ]
     },
     "execution_count": 4,
     "metadata": {},
     "output_type": "execute_result"
    }
   ],
   "source": [
    "session = boto3.Session(profile_name = \"aveek2021\")\n",
    "client = session.client('ssm')\n",
    "response = client.get_parameters_by_path(\n",
    "                Path = \"/social_integration/instagram/\",\n",
    "                WithDecryption = False\n",
    "            )\n",
    "# response\n",
    "ig_parameters = response['Parameters']\n",
    "ig_parameters"
   ]
  },
  {
   "cell_type": "code",
   "execution_count": 14,
   "metadata": {},
   "outputs": [
    {
     "name": "stdout",
     "output_type": "stream",
     "text": [
      "AppID: 420683153164815\n",
      "App Secret: aedb53963ae446e070c3435befe2c8f0\n",
      "Business Account ID: 17841451612144935\n"
     ]
    }
   ],
   "source": [
    "parameter_path = f\"/social_integration/instagram/\"\n",
    "\n",
    "for param in ig_parameters:\n",
    "    if param['Name'] == f\"{parameter_path}app_id\":\n",
    "        app_id      = param['Value']\n",
    "    \n",
    "    elif param['Name'] == f\"{parameter_path}app_secret\":\n",
    "        app_secret  = param['Value']\n",
    "    \n",
    "    elif param['Name'] == f\"{parameter_path}business_account_id\":\n",
    "        business_account_id     = param['Value']\n",
    "\n",
    "print(f\"AppID: {app_id}\")\n",
    "print(f\"App Secret: {app_secret}\")\n",
    "print(f\"Business Account ID: {business_account_id}\")"
   ]
  },
  {
   "cell_type": "code",
   "execution_count": null,
   "metadata": {},
   "outputs": [],
   "source": []
  }
 ],
 "metadata": {
  "interpreter": {
   "hash": "dbb473b6734f6ff61f49272fe0a5ccdf58cedc1b97d39a5410f65150485be57d"
  },
  "kernelspec": {
   "display_name": "Python 3.9.10 ('.venv': poetry)",
   "language": "python",
   "name": "python3"
  },
  "language_info": {
   "codemirror_mode": {
    "name": "ipython",
    "version": 3
   },
   "file_extension": ".py",
   "mimetype": "text/x-python",
   "name": "python",
   "nbconvert_exporter": "python",
   "pygments_lexer": "ipython3",
   "version": "3.9.10"
  },
  "orig_nbformat": 4
 },
 "nbformat": 4,
 "nbformat_minor": 2
}
