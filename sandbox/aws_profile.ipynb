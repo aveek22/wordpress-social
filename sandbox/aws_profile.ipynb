{
 "cells": [
  {
   "cell_type": "code",
   "execution_count": 1,
   "metadata": {},
   "outputs": [],
   "source": [
    "import boto3"
   ]
  },
  {
   "cell_type": "markdown",
   "metadata": {},
   "source": [
    "Profile: Default\n",
    "* ad-athena-datasets\n",
    "* csv-redshift-221\n",
    "* wordpress-social\n",
    "\n",
    "Profile: Aveek2021\n",
    "* default-bucket-aveek2021\n",
    "* wordpress-social-001"
   ]
  },
  {
   "cell_type": "code",
   "execution_count": 2,
   "metadata": {},
   "outputs": [
    {
     "name": "stdout",
     "output_type": "stream",
     "text": [
      "ad-athena-datasets\n",
      "ad-quicksight-datasets\n",
      "cs-athena-demo-1283\n",
      "csv-redshift-221\n",
      "wordpress-social\n"
     ]
    }
   ],
   "source": [
    "import boto3\n",
    "\n",
    "client = boto3.client('s3')\n",
    "response_json = client.list_buckets()\n",
    "\n",
    "for bucket in response_json['Buckets']:\n",
    "    print(f\"{bucket['Name']}\")"
   ]
  },
  {
   "cell_type": "code",
   "execution_count": 3,
   "metadata": {},
   "outputs": [
    {
     "name": "stdout",
     "output_type": "stream",
     "text": [
      "default-bucket-aveek2021\n",
      "test-lambda-bucket-005463\n",
      "wordpress-social-001\n"
     ]
    }
   ],
   "source": [
    "session = boto3.Session(profile_name=\"aveek2021\")\n",
    "client = session.client('s3')\n",
    "response_json = client.list_buckets()\n",
    "\n",
    "for bucket in response_json['Buckets']:\n",
    "    print(f\"{bucket['Name']}\")"
   ]
  }
 ],
 "metadata": {
  "interpreter": {
   "hash": "dbb473b6734f6ff61f49272fe0a5ccdf58cedc1b97d39a5410f65150485be57d"
  },
  "kernelspec": {
   "display_name": "Python 3.9.10 ('.venv': poetry)",
   "language": "python",
   "name": "python3"
  },
  "language_info": {
   "codemirror_mode": {
    "name": "ipython",
    "version": 3
   },
   "file_extension": ".py",
   "mimetype": "text/x-python",
   "name": "python",
   "nbconvert_exporter": "python",
   "pygments_lexer": "ipython3",
   "version": "3.9.10"
  },
  "orig_nbformat": 4
 },
 "nbformat": 4,
 "nbformat_minor": 2
}
