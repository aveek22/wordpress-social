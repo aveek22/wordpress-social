{
 "cells": [
  {
   "cell_type": "code",
   "execution_count": 1,
   "metadata": {},
   "outputs": [],
   "source": [
    "import cv2\n",
    "import numpy"
   ]
  },
  {
   "cell_type": "code",
   "execution_count": 2,
   "metadata": {},
   "outputs": [
    {
     "name": "stdout",
     "output_type": "stream",
     "text": [
      "Image Resolution: 2584 x 3882\n"
     ]
    }
   ],
   "source": [
    "background = cv2.imread(\"assets/background.jpg\")\n",
    "\n",
    "\n",
    "height = background.shape[0]\n",
    "width = background.shape[1]\n",
    "\n",
    "print(f'Image Resolution: {height} x {width}')"
   ]
  },
  {
   "cell_type": "code",
   "execution_count": 3,
   "metadata": {},
   "outputs": [
    {
     "data": {
      "text/plain": [
       "True"
      ]
     },
     "execution_count": 3,
     "metadata": {},
     "output_type": "execute_result"
    }
   ],
   "source": [
    "image_height = height\n",
    "image_width = width\n",
    "number_of_color_channels = 3\n",
    "color = (0,0,0)\n",
    "pixel_array = numpy.full((image_height, image_width, number_of_color_channels), color, dtype=numpy.uint8)\n",
    "cv2.imwrite(\"assets/black_background.jpg\", pixel_array)"
   ]
  },
  {
   "cell_type": "code",
   "execution_count": 4,
   "metadata": {},
   "outputs": [
    {
     "data": {
      "text/plain": [
       "True"
      ]
     },
     "execution_count": 4,
     "metadata": {},
     "output_type": "execute_result"
    }
   ],
   "source": [
    "black_background = cv2.imread(\"assets/black_background.jpg\")\n",
    "\n",
    "final_background = cv2.addWeighted(black_background, 1, background, 0.5, 0)\n",
    "cv2.imwrite(\"assets/final_background.jpg\", final_background)"
   ]
  }
 ],
 "metadata": {
  "interpreter": {
   "hash": "dbb473b6734f6ff61f49272fe0a5ccdf58cedc1b97d39a5410f65150485be57d"
  },
  "kernelspec": {
   "display_name": "Python 3.9.10 ('.venv': venv)",
   "language": "python",
   "name": "python3"
  },
  "language_info": {
   "codemirror_mode": {
    "name": "ipython",
    "version": 3
   },
   "file_extension": ".py",
   "mimetype": "text/x-python",
   "name": "python",
   "nbconvert_exporter": "python",
   "pygments_lexer": "ipython3",
   "version": "3.9.10"
  },
  "orig_nbformat": 4
 },
 "nbformat": 4,
 "nbformat_minor": 2
}
