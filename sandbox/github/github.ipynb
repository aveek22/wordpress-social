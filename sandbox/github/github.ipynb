{
 "cells": [
  {
   "cell_type": "code",
   "execution_count": null,
   "metadata": {},
   "outputs": [],
   "source": [
    "import requests\n",
    "from config import Github"
   ]
  },
  {
   "cell_type": "code",
   "execution_count": null,
   "metadata": {},
   "outputs": [],
   "source": [
    "# Authorize user to app\n",
    "url = \"https://github.com/login/oauth/authorize\"\n",
    "redirect_uri = \"https://datacloudmag.com/auth/github/callback/\"\n",
    "scope = \"repo,gist\"\n",
    "\n",
    "params = {\n",
    "    'client_id' : Github.CLIENT_ID,\n",
    "    'redirect_uri' : 'https://datacloudmag.com/auth/github/callback/',\n",
    "    'scope' : f'{scope}',\n",
    "    'state' : 'random_string_value'\n",
    "}\n",
    "\n",
    "print(f\"{url}?client_id={Github.CLIENT_ID}&redirect_uri={redirect_uri}&scope={scope}&state=random_string_value\")"
   ]
  },
  {
   "cell_type": "code",
   "execution_count": null,
   "metadata": {},
   "outputs": [],
   "source": [
    "# https://datacloudmag.com/auth/github/callback/?code=44ad262ab4778e38c04b&state=random_string_value\n",
    "code = \"\""
   ]
  },
  {
   "cell_type": "code",
   "execution_count": null,
   "metadata": {},
   "outputs": [],
   "source": [
    "# Get access token\n",
    "\n",
    "url = \"https://github.com/login/oauth/access_token\"\n",
    "\n",
    "header = {\n",
    "    'Accept': 'application/json'\n",
    "}\n",
    "\n",
    "payload = {\n",
    "    'client_id' : Github.CLIENT_ID,\n",
    "    'client_secret' : Github.CLIENT_SECRET,\n",
    "    'redirect_uri' : redirect_uri,\n",
    "    'code' : code\n",
    "}"
   ]
  },
  {
   "cell_type": "code",
   "execution_count": null,
   "metadata": {},
   "outputs": [],
   "source": [
    "response = requests.post(url, headers=header, json=payload)\n",
    "response.status_code\n",
    "response_json = response.json()\n",
    "access_token = response_json['access_token']"
   ]
  },
  {
   "cell_type": "code",
   "execution_count": null,
   "metadata": {},
   "outputs": [],
   "source": [
    "url = \"https://api.github.com/user\"\n",
    "\n",
    "header = {\n",
    "    'Authorization' : f'TOKEN {access_token}'\n",
    "}\n",
    "\n",
    "response = requests.get(url=url, headers=header)\n",
    "response_json = response.json()\n",
    "response_json"
   ]
  },
  {
   "cell_type": "code",
   "execution_count": null,
   "metadata": {},
   "outputs": [],
   "source": [
    "# Get all gists\n",
    "\n",
    "url = \"https://api.github.com/gists\"\n",
    "\n",
    "params = {\n",
    "    'accept': 'application/vnd.github.v3+json',\n",
    "    'Authorization' : f'TOKEN {access_token}'\n",
    "}\n",
    "\n",
    "response = requests.get(url=url, params=params)\n",
    "response_json = response.json()\n",
    "response_json"
   ]
  },
  {
   "cell_type": "code",
   "execution_count": null,
   "metadata": {},
   "outputs": [],
   "source": [
    "# Create Gist from local file\n",
    "\n",
    "url = \"https://api.github.com/gists\"\n",
    "\n",
    "header = {\n",
    "    'accept': 'application/vnd.github.v3+json',\n",
    "    'Authorization' : f'TOKEN {access_token}'\n",
    "}\n",
    "\n",
    "payload = {\n",
    "    'description' : 'Sample Gist from python',\n",
    "    'files' : {\n",
    "        'message' : 'sample_gist_code.py',\n",
    "        'content' : 'print(Welcome!)'\n",
    "    },\n",
    "    'public' : True\n",
    "}\n",
    "\n",
    "response = requests.post(url=url, headers=header, json=payload)\n",
    "response_json = response.json()\n",
    "response_json"
   ]
  },
  {
   "cell_type": "code",
   "execution_count": null,
   "metadata": {},
   "outputs": [],
   "source": [
    "# Render Maarkdown\n",
    "\n",
    "url = \"https://api.github.com/markdown\"\n",
    "\n",
    "header = {\n",
    "    'accept': 'application/vnd.github.v3+json',\n",
    "    'Authorization' : f'TOKEN {access_token}'\n",
    "}\n",
    "\n",
    "payload = {\n",
    "    'description' : 'Sample Gist from python',\n",
    "    'files' : {\n",
    "        'message' : 'sample_gist_code.py',\n",
    "        'content' : 'print(Welcome!)'\n",
    "    },\n",
    "    'public' : True\n",
    "}\n",
    "\n",
    "response = requests.post(url=url, headers=header, json=payload)\n",
    "response_json = response.json()\n",
    "response_json"
   ]
  }
 ],
 "metadata": {
  "interpreter": {
   "hash": "dbb473b6734f6ff61f49272fe0a5ccdf58cedc1b97d39a5410f65150485be57d"
  },
  "kernelspec": {
   "display_name": "Python 3.9.10 ('.venv': venv)",
   "language": "python",
   "name": "python3"
  },
  "language_info": {
   "codemirror_mode": {
    "name": "ipython",
    "version": 3
   },
   "file_extension": ".py",
   "mimetype": "text/x-python",
   "name": "python",
   "nbconvert_exporter": "python",
   "pygments_lexer": "ipython3",
   "version": "3.9.10"
  },
  "orig_nbformat": 4
 },
 "nbformat": 4,
 "nbformat_minor": 2
}
